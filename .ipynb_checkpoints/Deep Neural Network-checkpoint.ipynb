{
 "cells": [
  {
   "cell_type": "code",
   "execution_count": 1,
   "metadata": {
    "collapsed": true
   },
   "outputs": [],
   "source": [
    "import numpy as np\n",
    "import time"
   ]
  },
  {
   "cell_type": "code",
   "execution_count": 2,
   "metadata": {},
   "outputs": [
    {
     "data": {
      "text/plain": [
       "array([[ 0.05931648,  0.29938333,  0.314112  ],\n",
       "       [ 0.32303214,  0.12659358,  0.58169196],\n",
       "       [ 0.63185993,  0.07798088,  0.85166776],\n",
       "       [ 0.95372339,  0.13555638,  0.43525402]])"
      ]
     },
     "execution_count": 2,
     "metadata": {},
     "output_type": "execute_result"
    }
   ],
   "source": [
    "x=np.random.rand(12).reshape(4,3)\n",
    "x"
   ]
  },
  {
   "cell_type": "code",
   "execution_count": 3,
   "metadata": {
    "collapsed": true
   },
   "outputs": [],
   "source": [
    "y=np.random.randint(0,2,4).reshape(4,1)"
   ]
  },
  {
   "cell_type": "code",
   "execution_count": 4,
   "metadata": {},
   "outputs": [
    {
     "name": "stdout",
     "output_type": "stream",
     "text": [
      "[[ 0.22522668  0.08383872 -0.1670875 ]\n",
      " [-0.07252579  0.10567592 -0.04185302]\n",
      " [-0.02735433 -0.23383423 -0.04264458]\n",
      " [ 0.00552511  0.06964577 -0.11553207]\n",
      " [ 0.01576143 -0.20113121  0.09663707]]\n",
      "[[ 0.44200352]\n",
      " [ 0.75294866]\n",
      " [ 0.94565606]\n",
      " [ 0.88566065]\n",
      " [ 0.4682823 ]]\n"
     ]
    }
   ],
   "source": [
    "theta=(np.random.randn(15)*0.1).reshape(5,3)\n",
    "b=np.random.rand(5).reshape(5,1)\n",
    "print (theta)\n",
    "print (b)"
   ]
  },
  {
   "cell_type": "markdown",
   "metadata": {},
   "source": [
    "# Forward Propogation"
   ]
  },
  {
   "cell_type": "code",
   "execution_count": 5,
   "metadata": {},
   "outputs": [
    {
     "name": "stdout",
     "output_type": "stream",
     "text": [
      "5.011796951293945 nanoseconds\n"
     ]
    }
   ],
   "source": [
    "#dimensions of each layer\n",
    "dimensions=np.array([5,4,3,2,1])\n",
    "\n",
    "#empty array of weights of all layers \n",
    "weights=np.zeros(len(dimensions)*(dimensions[0]**2)).reshape(len(dimensions),(dimensions[0]**2))\n",
    "\n",
    "#empty array of biases of all layers\n",
    "bias=np.zeros(len(dimensions)*dimensions[0]).reshape(len(dimensions),dimensions[0])\n",
    "\n",
    "#empty array of Zs of all layers\n",
    "Z=np.zeros(len(dimensions)*(dimensions[0]**2)).reshape(len(dimensions),(dimensions[0]**2))\n",
    "\n",
    "#empty array of as of all layers\n",
    "A=np.zeros(len(dimensions)*(dimensions[0]**2)).reshape(len(dimensions),dimensions[0]**2)\n",
    "\n",
    "#empty array for shapes of a\n",
    "shapes=np.zeros(10).reshape(5,2)\n",
    "\n",
    "#empty array for shapes of thetas\n",
    "shapes_thetas=np.zeros(10).reshape(5,2)\n",
    "\n",
    "#empty array for shapes of bias\n",
    "shapes_bias=np.zeros(10).reshape(5,2)\n",
    "\n",
    "tic=time.time()\n",
    "#loop for computation of z, a, theta and bias  of all layers expect input\n",
    "for i in range (0,len(dimensions)):\n",
    "    # array of z of each layer\n",
    "    z=np.zeros(dimensions[i]*len(x)).reshape(dimensions[i],len(x))\n",
    "    \n",
    "    \n",
    "    #print (theta.shape)\n",
    "    shapes_thetas[i]=theta.shape\n",
    "    \n",
    "    shapes_bias[i]=b.shape\n",
    "    #store all layer thetas in one array\n",
    "    k=0\n",
    "    for m in range(0,len(theta)):\n",
    "        for n in range(0,len(theta[0])):\n",
    "            weights[i][k]=theta[m][n]\n",
    "            k+=1\n",
    "    \n",
    "    #store all layer biases in one array        \n",
    "    c=0\n",
    "    for f in range(0,len(b)):\n",
    "        bias[i][c]=b[f][0]\n",
    "        c+=1\n",
    "    \n",
    "    #compute z of each layer\n",
    "    for j in range(0,len(theta)):\n",
    "        z[j]=np.dot(x,theta[j].T)+b[j]\n",
    "    z=z.T\n",
    "    #print (z.shape)\n",
    "    #store all layers Zs in one array\n",
    "    temp=0\n",
    "    for m in range(0,len(z)):\n",
    "        for n in range(0,len(z[0])):\n",
    "            Z[i][temp]=z[m][n]\n",
    "            temp+=1\n",
    "    \n",
    "    #compute a \n",
    "    a=1/(1+np.exp(-z))\n",
    "    shapes[i]=a.shape\n",
    "    if i==(len(dimensions)-1):\n",
    "        a=-y*np.log(a)+(1-y)*np.log(1-a)\n",
    "    #store all layers As in one array \n",
    "    temp=0\n",
    "    for m in range(0,len(a)):\n",
    "        for n in range(0,len(a[0])):\n",
    "            A[i][temp]=a[m][n]\n",
    "            temp+=1\n",
    "    \n",
    "    #make output of each layer as input of another layer\n",
    "    x=a\n",
    "    \n",
    "    #Go outside the loop \n",
    "    if i==(len(dimensions)-1):\n",
    "        break\n",
    "        \n",
    "    #generate new thetas and biases for each layer\n",
    "    theta=(np.random.randn(dimensions[i+1]*dimensions[i])*0.1).reshape(dimensions[i+1],dimensions[i])\n",
    "    b=np.random.rand(dimensions[i+1]).reshape(dimensions[i+1],1) \n",
    "toc=time.time()\n",
    "print ((toc-tic)*1000,'nanoseconds')"
   ]
  },
  {
   "cell_type": "markdown",
   "metadata": {},
   "source": [
    "# Backword Propogation"
   ]
  },
  {
   "cell_type": "code",
   "execution_count": 6,
   "metadata": {},
   "outputs": [],
   "source": [
    "da=a-y \n",
    "for i in range (len(dimensions)-1,-1,-1):\n",
    "    a=np.trim_zeros(A[i])\n",
    "    a=a.reshape(int(shapes[i][0]),int(shapes[i][1]))\n",
    "    b=np.trim_zeros(A[i-1])\n",
    "    b=b.reshape(int(shapes[i-1][0]),int(shapes[i-1][1]))\n",
    "    z1=np.trim_zeros(Z[i])\n",
    "    z1=z1.reshape(int(shapes[i][0]),int(shapes[i][1]))\n",
    "    dz=da*(a*(1-a))\n",
    "    dw=np.dot(b.T,dz)\n",
    "    dw=np.mean(dw,axis=0)\n",
    "    db=np.mean(dz,axis=0)\n",
    "    w=np.trim_zeros(weights[i])\n",
    "    w=w.reshape(int(shapes_thetas[i][0]),int(shapes_thetas[i][1]))\n",
    "    bi=np.trim_zeros(bias[i])\n",
    "    bi=bi.reshape(int(shapes_bias[i][0]),int(shapes_bias[i][1]))\n",
    "    for j in range(0,len(w)):\n",
    "        w[j]=w[j]*(1-(100*0.021)/len(x))-0.021*dw[j]\n",
    "    for l in range(0,len(bi)):\n",
    "        bi[l]=bi[l]-0.021*db[l]   \n",
    "    da=np.dot(dz,w)    "
   ]
  }
 ],
 "metadata": {
  "kernelspec": {
   "display_name": "Python 3",
   "language": "python",
   "name": "python3"
  },
  "language_info": {
   "codemirror_mode": {
    "name": "ipython",
    "version": 3
   },
   "file_extension": ".py",
   "mimetype": "text/x-python",
   "name": "python",
   "nbconvert_exporter": "python",
   "pygments_lexer": "ipython3",
   "version": "3.6.3"
  }
 },
 "nbformat": 4,
 "nbformat_minor": 2
}
