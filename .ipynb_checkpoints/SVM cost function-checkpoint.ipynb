{
 "cells": [
  {
   "cell_type": "code",
   "execution_count": 7,
   "metadata": {
    "collapsed": true
   },
   "outputs": [],
   "source": [
    "import numpy as np\n",
    "import matplotlib.pyplot as plt"
   ]
  },
  {
   "cell_type": "code",
   "execution_count": 8,
   "metadata": {},
   "outputs": [
    {
     "data": {
      "text/plain": [
       "array([[ 0.59844675,  0.43369388,  0.7184647 ,  0.83642563],\n",
       "       [ 0.79314628,  0.86960559,  0.17562209,  0.35167842],\n",
       "       [ 0.67110876,  0.56873918,  0.3153666 ,  0.04096741],\n",
       "       [ 0.56489519,  0.98944815,  0.30201593,  0.71991973],\n",
       "       [ 0.39347284,  0.84517386,  0.96449806,  0.75795549]])"
      ]
     },
     "execution_count": 8,
     "metadata": {},
     "output_type": "execute_result"
    }
   ],
   "source": [
    "x=np.random.rand(20).reshape(5,4)\n",
    "x"
   ]
  },
  {
   "cell_type": "code",
   "execution_count": 9,
   "metadata": {},
   "outputs": [
    {
     "data": {
      "text/plain": [
       "array([ 1.        ,  0.41629081,  0.63425535,  0.80601498])"
      ]
     },
     "execution_count": 9,
     "metadata": {},
     "output_type": "execute_result"
    }
   ],
   "source": [
    "theta=np.random.rand(3)\n",
    "theta=np.insert(theta,0,1)\n",
    "theta"
   ]
  },
  {
   "cell_type": "code",
   "execution_count": 10,
   "metadata": {},
   "outputs": [
    {
     "data": {
      "text/plain": [
       "array([[0],\n",
       "       [1],\n",
       "       [0],\n",
       "       [0],\n",
       "       [1]])"
      ]
     },
     "execution_count": 10,
     "metadata": {},
     "output_type": "execute_result"
    }
   ],
   "source": [
    "y=np.random.randint(0,2,5).reshape(5,1)\n",
    "y"
   ]
  },
  {
   "cell_type": "code",
   "execution_count": 11,
   "metadata": {
    "collapsed": true
   },
   "outputs": [],
   "source": [
    "def calc_hypo(x,t):\n",
    "    z=np.dot(t,x.T)\n",
    "    hypo=1/(1+np.exp(-z))\n",
    "    return hypo"
   ]
  },
  {
   "cell_type": "code",
   "execution_count": 13,
   "metadata": {
    "collapsed": true
   },
   "outputs": [],
   "source": [
    "def svm_cost(x1,t1,y):\n",
    "    total=0\n",
    "    total2=0\n",
    "    for i in range(0,len(x1)):\n",
    "        total=total+(y[i]*calc_hypo(x1[i],t1)+(1-y[i])*(1-(calc_hypo(x[i],t1))))\n",
    "    for j in range(0,len(t1)):\n",
    "        total2=total2+t1[j]**2\n",
    "        \n",
    "    return total,total2    "
   ]
  },
  {
   "cell_type": "code",
   "execution_count": 15,
   "metadata": {},
   "outputs": [
    {
     "data": {
      "text/plain": [
       "array([ 1.66806702])"
      ]
     },
     "execution_count": 15,
     "metadata": {},
     "output_type": "execute_result"
    }
   ],
   "source": [
    "cost,regularize=svm_cost(x,theta,y)\n",
    "C=0.25\n",
    "JTheta=C*cost+(1/2)*regularize\n",
    "JTheta"
   ]
  }
 ],
 "metadata": {
  "kernelspec": {
   "display_name": "Python 3",
   "language": "python",
   "name": "python3"
  },
  "language_info": {
   "codemirror_mode": {
    "name": "ipython",
    "version": 3
   },
   "file_extension": ".py",
   "mimetype": "text/x-python",
   "name": "python",
   "nbconvert_exporter": "python",
   "pygments_lexer": "ipython3",
   "version": "3.6.3"
  }
 },
 "nbformat": 4,
 "nbformat_minor": 2
}
