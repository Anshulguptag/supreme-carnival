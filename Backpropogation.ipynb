{
 "cells": [
  {
   "cell_type": "code",
   "execution_count": 69,
   "metadata": {
    "collapsed": true
   },
   "outputs": [],
   "source": [
    "import numpy as np\n",
    "import matplotlib.pyplot as plt"
   ]
  },
  {
   "cell_type": "code",
   "execution_count": 70,
   "metadata": {},
   "outputs": [
    {
     "data": {
      "text/plain": [
       "array([[0, 0],\n",
       "       [0, 1],\n",
       "       [1, 0],\n",
       "       [1, 1]])"
      ]
     },
     "execution_count": 70,
     "metadata": {},
     "output_type": "execute_result"
    }
   ],
   "source": [
    "x=np.array([[0,0],[0,1],[1,0],[1,1]])\n",
    "x"
   ]
  },
  {
   "cell_type": "code",
   "execution_count": 71,
   "metadata": {},
   "outputs": [
    {
     "data": {
      "text/plain": [
       "array([0, 1, 0, 0])"
      ]
     },
     "execution_count": 71,
     "metadata": {},
     "output_type": "execute_result"
    }
   ],
   "source": [
    "y=np.array([0,1,0,0])\n",
    "y"
   ]
  },
  {
   "cell_type": "code",
   "execution_count": 72,
   "metadata": {},
   "outputs": [
    {
     "data": {
      "text/plain": [
       "array([[-10, -50],\n",
       "       [  0, -20],\n",
       "       [ 10,  20]])"
      ]
     },
     "execution_count": 72,
     "metadata": {},
     "output_type": "execute_result"
    }
   ],
   "source": [
    "w=(np.random.randint(-5,5,6)*10).reshape(3,2)\n",
    "w"
   ]
  },
  {
   "cell_type": "code",
   "execution_count": 73,
   "metadata": {},
   "outputs": [
    {
     "data": {
      "text/plain": [
       "array([[  0.6, -49.4,  -9.4, -59.4],\n",
       "       [  0.6, -19.4,   0.6, -19.4],\n",
       "       [  0.6,  20.6,  10.6,  30.6]])"
      ]
     },
     "execution_count": 73,
     "metadata": {},
     "output_type": "execute_result"
    }
   ],
   "source": [
    "z=np.dot(w,x.T)+0.6\n",
    "z"
   ]
  },
  {
   "cell_type": "code",
   "execution_count": 74,
   "metadata": {
    "collapsed": true
   },
   "outputs": [],
   "source": [
    "def sigmoid(c):\n",
    "    return 1/(1+np.exp(-c))"
   ]
  },
  {
   "cell_type": "code",
   "execution_count": 75,
   "metadata": {},
   "outputs": [
    {
     "data": {
      "text/plain": [
       "array([[  6.45656306e-01,   6.45656306e-01,   6.45656306e-01],\n",
       "       [  3.51441136e-22,   3.75566675e-09,   9.99999999e-01],\n",
       "       [  8.27172229e-05,   6.45656306e-01,   9.99975085e-01],\n",
       "       [  1.59554029e-26,   3.75566675e-09,   1.00000000e+00]])"
      ]
     },
     "execution_count": 75,
     "metadata": {},
     "output_type": "execute_result"
    }
   ],
   "source": [
    "a=sigmoid(z)\n",
    "a=a.T\n",
    "a"
   ]
  },
  {
   "cell_type": "code",
   "execution_count": 76,
   "metadata": {},
   "outputs": [
    {
     "data": {
      "text/plain": [
       "array([ 0.80252701,  0.89087993,  0.35435474])"
      ]
     },
     "execution_count": 76,
     "metadata": {},
     "output_type": "execute_result"
    }
   ],
   "source": [
    "output_theta=np.random.rand(3)\n",
    "output_theta"
   ]
  },
  {
   "cell_type": "code",
   "execution_count": 77,
   "metadata": {
    "collapsed": true
   },
   "outputs": [],
   "source": [
    "def z1_calc(theta,array):\n",
    "    z1=np.dot(theta,array.T)+0.6\n",
    "    return z1"
   ]
  },
  {
   "cell_type": "code",
   "execution_count": 78,
   "metadata": {},
   "outputs": [
    {
     "data": {
      "text/plain": [
       "array([ 0.87237802,  0.72199011,  0.82194991,  0.72199011])"
      ]
     },
     "execution_count": 78,
     "metadata": {},
     "output_type": "execute_result"
    }
   ],
   "source": [
    "output=sigmoid(z1_calc(output_theta,a))\n",
    "output"
   ]
  },
  {
   "cell_type": "code",
   "execution_count": 79,
   "metadata": {},
   "outputs": [
    {
     "data": {
      "text/plain": [
       "array([ 0.09712587, -0.05580225,  0.12029094,  0.14491814])"
      ]
     },
     "execution_count": 79,
     "metadata": {},
     "output_type": "execute_result"
    }
   ],
   "source": [
    "#for each final output node\n",
    "#In ths program only one output class is present final \n",
    "deltak=output*(1-output)*(output-y)\n",
    "deltak"
   ]
  },
  {
   "cell_type": "code",
   "execution_count": 80,
   "metadata": {
    "collapsed": true
   },
   "outputs": [],
   "source": [
    "def weight(c):\n",
    "    total=0\n",
    "    for i in range(0,1):\n",
    "        total=total+c*output[i]\n",
    "    return total   "
   ]
  },
  {
   "cell_type": "code",
   "execution_count": 81,
   "metadata": {},
   "outputs": [
    {
     "data": {
      "text/plain": [
       "array([[  1.74114739e-01,   2.21354603e-22,   5.93075642e-05,\n",
       "          1.00494834e-26],\n",
       "       [  1.74114739e-01,   2.36550032e-09,   1.64049977e-01,\n",
       "          2.36550032e-09],\n",
       "       [  1.74114739e-01,   7.12475042e-10,   1.78651603e-05,\n",
       "          3.23063704e-14]])"
      ]
     },
     "execution_count": 81,
     "metadata": {},
     "output_type": "execute_result"
    }
   ],
   "source": [
    "#Now final hidden layers\n",
    "deltaj=np.zeros(12).reshape(3,4)\n",
    "for i in range(0,3):\n",
    "    deltaj[i]=a[:,i]*(1-a[:,i])*(weight(output))\n",
    "deltaj"
   ]
  },
  {
   "cell_type": "code",
   "execution_count": 82,
   "metadata": {},
   "outputs": [
    {
     "data": {
      "text/plain": [
       "array([[  8.70573695e-02,   1.10677301e-22,   2.96537821e-05,\n",
       "          5.02474171e-27],\n",
       "       [  8.70573695e-02,   1.18275016e-09,   8.20249883e-02,\n",
       "          1.18275016e-09],\n",
       "       [  8.70573695e-02,   3.56237521e-10,   8.93258016e-06,\n",
       "          1.61531852e-14]])"
      ]
     },
     "execution_count": 82,
     "metadata": {},
     "output_type": "execute_result"
    }
   ],
   "source": [
    "eta=0.5\n",
    "deltaW=0.5*deltaj\n",
    "deltaW"
   ]
  },
  {
   "cell_type": "code",
   "execution_count": 83,
   "metadata": {},
   "outputs": [
    {
     "data": {
      "text/plain": [
       "array([ 0.82429876,  0.93315052,  0.37612132])"
      ]
     },
     "execution_count": 83,
     "metadata": {},
     "output_type": "execute_result"
    }
   ],
   "source": [
    "for i in range(0,len(output_theta)):\n",
    "    output_theta[i]=output_theta[i]+np.mean(deltaW[i])\n",
    "\n",
    "output_theta"
   ]
  },
  {
   "cell_type": "code",
   "execution_count": 84,
   "metadata": {},
   "outputs": [
    {
     "data": {
      "text/plain": [
       "array([ 0.8784201 ,  0.72633792,  0.82901673,  0.72633792])"
      ]
     },
     "execution_count": 84,
     "metadata": {},
     "output_type": "execute_result"
    }
   ],
   "source": [
    "output1=sigmoid(z1_calc(output_theta,a))\n",
    "output1"
   ]
  },
  {
   "cell_type": "code",
   "execution_count": 85,
   "metadata": {},
   "outputs": [
    {
     "name": "stdout",
     "output_type": "stream",
     "text": [
      "0.784577036849\n",
      "0.778984476318\n",
      "0.773292130781\n",
      "0.767503096417\n",
      "0.761620842699\n",
      "0.755649206389\n",
      "0.749592381936\n",
      "0.743454908221\n",
      "0.737241651705\n",
      "0.730957786093\n",
      "0.72460876868\n",
      "0.718200313647\n",
      "0.711738362589\n",
      "0.705229052661\n",
      "0.698678682751\n",
      "0.692093678124\n",
      "0.685480554025\n",
      "0.678845878733\n",
      "0.672196236564\n",
      "0.665538191318\n",
      "0.658878250637\n",
      "0.652222831712\n",
      "0.64557822875\n",
      "0.638950582544\n",
      "0.63234585245\n",
      "0.625769791022\n",
      "0.619227921474\n",
      "0.61272551811\n",
      "0.60626758978\n",
      "0.599858866377\n",
      "0.593503788341\n",
      "0.58720649907\n",
      "0.580970840138\n",
      "0.574800349149\n",
      "0.568698260036\n",
      "0.562667505621\n",
      "0.5567107222\n",
      "0.550830255934\n",
      "0.545028170821\n",
      "0.539306258002\n",
      "0.533666046209\n",
      "0.528108813108\n",
      "0.522635597369\n",
      "0.517247211242\n",
      "0.511944253492\n",
      "0.50672712253\n",
      "0.501596029589\n",
      "0.496551011834\n",
      "0.491591945298\n",
      "0.48671855754\n",
      "0.481930439969\n",
      "0.477227059747\n",
      "0.472607771242\n",
      "0.468071826978\n",
      "0.46361838806\n",
      "0.459246534053\n",
      "0.45495527231\n",
      "0.450743546731\n",
      "0.446610245973\n",
      "0.442554211106\n",
      "0.438574242732\n",
      "0.434669107582\n",
      "0.430837544602\n",
      "0.427078270567\n",
      "0.423389985212\n",
      "0.419771375944\n",
      "0.416221122116\n",
      "0.412737898925\n",
      "0.409320380925\n",
      "0.405967245201\n",
      "0.402677174219\n",
      "0.399448858368\n",
      "0.396280998231\n",
      "0.393172306589\n",
      "0.390121510185\n",
      "0.387127351275\n",
      "0.384188588966\n",
      "0.381304000376\n",
      "0.378472381616\n",
      "0.375692548626\n",
      "0.372963337858\n",
      "0.370283606841\n",
      "0.367652234625\n",
      "0.365068122115\n",
      "0.362530192322\n",
      "0.360037390513\n",
      "0.357588684302\n",
      "0.355183063658\n",
      "0.352819540857\n",
      "0.350497150386\n",
      "0.34821494879\n",
      "0.345972014482\n",
      "0.343767447517\n",
      "0.341600369331\n",
      "0.339469922454\n",
      "0.337375270201\n",
      "0.335315596337\n",
      "0.333290104735\n",
      "0.331298019009\n",
      "0.329338582146\n",
      "0.327411056118\n",
      "0.325514721499\n",
      "0.323648877067\n",
      "0.32181283941\n",
      "0.320005942525\n",
      "0.318227537418\n",
      "0.316476991711\n",
      "0.314753689239\n",
      "0.313057029657\n",
      "0.311386428055\n",
      "0.309741314565\n",
      "0.308121133986\n",
      "0.306525345404\n",
      "0.304953421823\n",
      "0.303404849802\n",
      "0.301879129099\n",
      "0.300375772315\n",
      "0.298894304559\n",
      "0.297434263103\n",
      "0.295995197061\n",
      "0.294576667059\n",
      "0.293178244927\n",
      "0.29179951339\n",
      "0.290440065767\n",
      "0.28909950568\n",
      "0.28777744677\n",
      "0.286473512419\n",
      "0.285187335478\n",
      "0.283918558005\n",
      "0.28266683101\n",
      "0.281431814202\n",
      "0.280213175753\n",
      "0.279010592054\n",
      "0.277823747494\n",
      "0.276652334229\n",
      "0.275496051974\n",
      "0.274354607784\n",
      "0.273227715856\n",
      "0.272115097328\n",
      "0.271016480087\n",
      "0.26993159858\n",
      "0.268860193633\n",
      "0.267802012278\n",
      "0.266756807576\n",
      "0.265724338453\n",
      "0.26470436954\n",
      "0.263696671016\n",
      "0.262701018453\n",
      "0.261717192673\n",
      "0.260744979602\n"
     ]
    }
   ],
   "source": [
    "output2=np.zeros(4)\n",
    "count=0\n",
    "for i in range(0,150):\n",
    "    deltaj=np.zeros(12).reshape(3,4)\n",
    "    if count==0:\n",
    "        deltak=output*(1-output)*(output-y)\n",
    "        for i in range(0,3):\n",
    "            deltaj[i]=a[:,i]*(1-a[:,i])*(weight(output))\n",
    "            count=count+1\n",
    "    else:\n",
    "        deltak=output2*(1-output2)*(output2-y)\n",
    "        for i in range(0,3):\n",
    "            deltaj[i]=a[:,i]*(1-a[:,i])*(weight(output2))\n",
    "    eta=0.5\n",
    "    deltaW=0.5*deltaj\n",
    "    for i in range(0,len(output_theta)): \n",
    "        output_theta[i]=output_theta[i]-np.mean(deltaW[i])   \n",
    "    output2=sigmoid(z1_calc(output_theta,a))\n",
    "    print (np.mean(output2))"
   ]
  },
  {
   "cell_type": "code",
   "execution_count": null,
   "metadata": {
    "collapsed": true
   },
   "outputs": [],
   "source": []
  }
 ],
 "metadata": {
  "kernelspec": {
   "display_name": "Python 3",
   "language": "python",
   "name": "python3"
  },
  "language_info": {
   "codemirror_mode": {
    "name": "ipython",
    "version": 3
   },
   "file_extension": ".py",
   "mimetype": "text/x-python",
   "name": "python",
   "nbconvert_exporter": "python",
   "pygments_lexer": "ipython3",
   "version": "3.6.3"
  }
 },
 "nbformat": 4,
 "nbformat_minor": 2
}
