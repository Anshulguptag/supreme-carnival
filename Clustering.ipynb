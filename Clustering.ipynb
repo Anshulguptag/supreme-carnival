{
 "cells": [
  {
   "cell_type": "code",
   "execution_count": 650,
   "metadata": {
    "collapsed": true
   },
   "outputs": [],
   "source": [
    "import numpy as np\n",
    "import matplotlib.pyplot as plt\n",
    "import random"
   ]
  },
  {
   "cell_type": "code",
   "execution_count": 651,
   "metadata": {},
   "outputs": [],
   "source": [
    "x=np.random.rand(200).reshape(100,2)"
   ]
  },
  {
   "cell_type": "code",
   "execution_count": 652,
   "metadata": {},
   "outputs": [
    {
     "data": {
      "image/png": "[encoded data removed]",
      "text/plain": [
       "<matplotlib.figure.Figure at 0x252f4c9c9b0>"
      ]
     },
     "metadata": {},
     "output_type": "display_data"
    }
   ],
   "source": [
    "red_cluster=random.choice(x)\n",
    "blue_cluster=random.choice(x)\n",
    "plt.scatter(x[:,0],x[:,1],c='y')\n",
    "plt.scatter(red_cluster[0],red_cluster[1],marker='^',c='r',s=150)\n",
    "plt.scatter(blue_cluster[0],blue_cluster[1],marker='^',c='b',s=150)\n",
    "plt.show()"
   ]
  },
  {
   "cell_type": "code",
   "execution_count": 653,
   "metadata": {},
   "outputs": [],
   "source": [
    "temp=0\n",
    "c=7\n",
    "while(c!=0):\n",
    "    d1=((x[:,0]-red_cluster[0])**2+(x[:,1]-red_cluster[1])**2)**(0.5)\n",
    "    d2=((x[:,0]-blue_cluster[0])**2+(x[:,1]-blue_cluster[1])**2)**(0.5)\n",
    "    red=[]\n",
    "    blue=[]\n",
    "    for j in range(0,len(d1)):\n",
    "        if d1[j]<d2[j]:\n",
    "            red.append(x[j])\n",
    "        else:\n",
    "            blue.append(x[j])\n",
    "    red=np.array(red)    \n",
    "    blue=np.array(blue)\n",
    "    redmean=np.mean(red,axis=0)\n",
    "    bluemean=np.mean(blue,axis=0)\n",
    "    red_cluster=redmean\n",
    "    blue_cluster=bluemean\n",
    "    c=temp-redmean[0]\n",
    "    temp=redmean[0]\n",
    "    plt.show()"
   ]
  },
  {
   "cell_type": "code",
   "execution_count": 654,
   "metadata": {},
   "outputs": [
    {
     "data": {
      "image/png": "[encoded data removed]",
      "text/plain": [
       "<matplotlib.figure.Figure at 0x252f48cc128>"
      ]
     },
     "metadata": {},
     "output_type": "display_data"
    },
    {
     "data": {
      "text/plain": [
       "((54, 2), (46, 2))"
      ]
     },
     "execution_count": 654,
     "metadata": {},
     "output_type": "execute_result"
    }
   ],
   "source": [
    "plt.scatter(red[:,0],red[:,1],c='r')\n",
    "plt.scatter(blue[:,0],blue[:,1],c='b')\n",
    "#plt.scatter(red_cluster[0],red_cluster[1],marker='^',c='r',s=150)\n",
    "#plt.scatter(blue_cluster[0],blue_cluster[1],marker='^',c='b',s=150)\n",
    "plt.show()\n",
    "red.shape,blue.shape"
   ]
  }
 ],
 "metadata": {
  "kernelspec": {
   "display_name": "Python 3",
   "language": "python",
   "name": "python3"
  },
  "language_info": {
   "codemirror_mode": {
    "name": "ipython",
    "version": 3
   },
   "file_extension": ".py",
   "mimetype": "text/x-python",
   "name": "python",
   "nbconvert_exporter": "python",
   "pygments_lexer": "ipython3",
   "version": "3.6.3"
  }
 },
 "nbformat": 4,
 "nbformat_minor": 2
}
