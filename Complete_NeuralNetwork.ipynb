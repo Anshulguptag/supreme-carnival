{
 "cells": [
  {
   "cell_type": "code",
   "execution_count": 358,
   "metadata": {
    "collapsed": true
   },
   "outputs": [],
   "source": [
    "import numpy as np"
   ]
  },
  {
   "cell_type": "code",
   "execution_count": 359,
   "metadata": {},
   "outputs": [
    {
     "data": {
      "text/plain": [
       "array([[0, 0],\n",
       "       [0, 1],\n",
       "       [1, 0],\n",
       "       [1, 1]])"
      ]
     },
     "execution_count": 359,
     "metadata": {},
     "output_type": "execute_result"
    }
   ],
   "source": [
    "#FORWARD\n",
    "#Take inputs\n",
    "x=np.array([[0,0],[0,1],[1,0],[1,1]])\n",
    "x"
   ]
  },
  {
   "cell_type": "code",
   "execution_count": 360,
   "metadata": {},
   "outputs": [
    {
     "data": {
      "text/plain": [
       "array([[0, 0],\n",
       "       [0, 1],\n",
       "       [0, 1],\n",
       "       [1, 1]])"
      ]
     },
     "execution_count": 360,
     "metadata": {},
     "output_type": "execute_result"
    }
   ],
   "source": [
    "#predicted outputs\n",
    "y=np.array([[0,0],[0,1],[0,1],[1,1]])\n",
    "y"
   ]
  },
  {
   "cell_type": "code",
   "execution_count": 361,
   "metadata": {},
   "outputs": [
    {
     "data": {
      "text/plain": [
       "(array([[ 0.73458924,  0.54121847],\n",
       "        [ 0.3731849 ,  0.01567238],\n",
       "        [ 0.16145526,  0.41029939]]), 0.51)"
      ]
     },
     "execution_count": 361,
     "metadata": {},
     "output_type": "execute_result"
    }
   ],
   "source": [
    "#take weights for first hidden layer \n",
    "weight=np.random.rand(6).reshape(3,2)\n",
    "bias=0.51\n",
    "weight,bias"
   ]
  },
  {
   "cell_type": "code",
   "execution_count": 362,
   "metadata": {},
   "outputs": [],
   "source": [
    "def calc_z(w,values,b):\n",
    "    b1=b\n",
    "    z=(np.dot(w,values.T)+b1).T\n",
    "    return z"
   ]
  },
  {
   "cell_type": "code",
   "execution_count": 363,
   "metadata": {
    "collapsed": true
   },
   "outputs": [],
   "source": [
    "def sigmoid(c):\n",
    "    return 1/(1+np.exp(-c))"
   ]
  },
  {
   "cell_type": "code",
   "execution_count": 364,
   "metadata": {},
   "outputs": [
    {
     "data": {
      "text/plain": [
       "array([[ 0.62480647,  0.62480647,  0.62480647],\n",
       "       [ 0.74100881,  0.6284732 ,  0.71510311],\n",
       "       [ 0.77636183,  0.70748178,  0.66182894],\n",
       "       [ 0.85641252,  0.71071462,  0.74682589]])"
      ]
     },
     "execution_count": 364,
     "metadata": {},
     "output_type": "execute_result"
    }
   ],
   "source": [
    "#values of units in layer 1\n",
    "a_l1=sigmoid(calc_z(weight,x,bias))\n",
    "a_l1"
   ]
  },
  {
   "cell_type": "code",
   "execution_count": 365,
   "metadata": {},
   "outputs": [
    {
     "data": {
      "text/plain": [
       "(array([[ 0.76745838,  0.80803487,  0.63438048],\n",
       "        [ 0.57387596,  0.28745698,  0.41831949],\n",
       "        [ 0.55185316,  0.81182179,  0.05859882]]), 0.28)"
      ]
     },
     "execution_count": 365,
     "metadata": {},
     "output_type": "execute_result"
    }
   ],
   "source": [
    "#weight for second hidden layer\n",
    "weight1=np.random.rand(9).reshape(3,3)\n",
    "bias1=0.28\n",
    "weight1,bias1"
   ]
  },
  {
   "cell_type": "code",
   "execution_count": 366,
   "metadata": {},
   "outputs": [
    {
     "data": {
      "text/plain": [
       "array([[ 0.84033777,  0.746406  ,  0.76290016],\n",
       "       [ 0.85938231,  0.76585418,  0.77574507],\n",
       "       [ 0.86615097,  0.76954821,  0.78944267],\n",
       "       [ 0.8792466 ,  0.78384004,  0.79792097]])"
      ]
     },
     "execution_count": 366,
     "metadata": {},
     "output_type": "execute_result"
    }
   ],
   "source": [
    "#values of units in layer 2\n",
    "a_l2=sigmoid(calc_z(weight1,a_l1,bias1))\n",
    "a_l2"
   ]
  },
  {
   "cell_type": "code",
   "execution_count": 367,
   "metadata": {},
   "outputs": [
    {
     "data": {
      "text/plain": [
       "(array([[ 0.3499359 ,  0.48373486,  0.10578857],\n",
       "        [ 0.73744966,  0.78014067,  0.89794908]]), 0.35)"
      ]
     },
     "execution_count": 367,
     "metadata": {},
     "output_type": "execute_result"
    }
   ],
   "source": [
    "#weight for output layer\n",
    "weight2=np.random.rand(6).reshape(2,3)\n",
    "bias2=0.35\n",
    "weight2,bias2"
   ]
  },
  {
   "cell_type": "code",
   "execution_count": 368,
   "metadata": {},
   "outputs": [
    {
     "data": {
      "text/plain": [
       "array([[ 0.74759625,  0.90352797],\n",
       "       [ 0.75087119,  0.90702208],\n",
       "       [ 0.75191813,  0.90870943],\n",
       "       [ 0.75422266,  0.91103984]])"
      ]
     },
     "execution_count": 368,
     "metadata": {},
     "output_type": "execute_result"
    }
   ],
   "source": [
    "#values of units in output layer\n",
    "output=sigmoid(calc_z(weight2,a_l2,bias2))\n",
    "output"
   ]
  },
  {
   "cell_type": "code",
   "execution_count": 369,
   "metadata": {},
   "outputs": [
    {
     "data": {
      "text/plain": [
       "array([[ 0.14106849,  0.07875617],\n",
       "       [ 0.1404607 , -0.00784111],\n",
       "       [ 0.14026075, -0.00757316],\n",
       "       [-0.04555995, -0.00720989]])"
      ]
     },
     "execution_count": 369,
     "metadata": {},
     "output_type": "execute_result"
    }
   ],
   "source": [
    "#BACKPROPOGATION\n",
    "#Calculating delta_k\n",
    "delta_k=output*(1-output)*(output-y)\n",
    "delta_k"
   ]
  },
  {
   "cell_type": "code",
   "execution_count": 370,
   "metadata": {},
   "outputs": [],
   "source": [
    "def calc_delta_w(delta1,outputs):\n",
    "    eta=0.5\n",
    "    delta_weight=-eta*np.dot(delta1.T,outputs)\n",
    "    delta_bias=-eta*np.mean(delta_k)\n",
    "    return delta_weight,delta_bias"
   ]
  },
  {
   "cell_type": "code",
   "execution_count": 371,
   "metadata": {},
   "outputs": [
    {
     "data": {
      "text/plain": [
       "(array([[ 0.18959431,  0.34118862, -0.03969016],\n",
       "        [ 0.71417741,  0.75949085,  0.87681463]]), 0.32297737426604023)"
      ]
     },
     "execution_count": 371,
     "metadata": {},
     "output_type": "execute_result"
    }
   ],
   "source": [
    "#Calculate new weight for second hidden layer\n",
    "delta_w2,delta_bias2=calc_delta_w(delta_k,a_l2)\n",
    "weight2=weight2+delta_w2\n",
    "bias2=bias2+delta_bias2\n",
    "weight2,bias2"
   ]
  },
  {
   "cell_type": "code",
   "execution_count": 372,
   "metadata": {},
   "outputs": [
    {
     "data": {
      "text/plain": [
       "array([[-0.00237125, -0.0033453 , -0.00319683],\n",
       "       [-0.00213573, -0.00316923, -0.00307455],\n",
       "       [-0.00204894, -0.00313427, -0.00293773],\n",
       "       [-0.00187642, -0.00299449, -0.00284972]])"
      ]
     },
     "execution_count": 372,
     "metadata": {},
     "output_type": "execute_result"
    }
   ],
   "source": [
    "#Calculating delta_j2\n",
    "for i in range(0,2):\n",
    "    temp=delta_k[0,i]\n",
    "    temp1=np.delete(delta_k,0,0)\n",
    "    c=weight_error((temp1[:,i]),weight2[i])\n",
    "    delta_j2=(a_l2)*(1-a_l2)*c\n",
    "delta_j2    "
   ]
  },
  {
   "cell_type": "code",
   "execution_count": 373,
   "metadata": {},
   "outputs": [
    {
     "data": {
      "text/plain": [
       "(array([[ 0.77058932,  0.81083837,  0.63726361],\n",
       "        [ 0.57859418,  0.29167078,  0.42265309],\n",
       "        [ 0.55635163,  0.81583849,  0.06273309]]), 0.25297737426604028)"
      ]
     },
     "execution_count": 373,
     "metadata": {},
     "output_type": "execute_result"
    }
   ],
   "source": [
    "#Calculate new weight for first hidden layer\n",
    "delta_w1,delta_bias1=calc_delta_w(delta_j2,a_l1)\n",
    "weight1=weight1+delta_w1\n",
    "bias1=bias1+delta_bias1\n",
    "weight1,bias1"
   ]
  },
  {
   "cell_type": "code",
   "execution_count": 374,
   "metadata": {},
   "outputs": [
    {
     "data": {
      "text/plain": [
       "array([[-0.00053849, -0.00075969, -0.00072598],\n",
       "       [-0.00048501, -0.00071971, -0.00069821],\n",
       "       [-0.0004653 , -0.00071177, -0.00066714],\n",
       "       [-0.00042612, -0.00068003, -0.00064715]])"
      ]
     },
     "execution_count": 374,
     "metadata": {},
     "output_type": "execute_result"
    }
   ],
   "source": [
    "#Calculating delta_j1\n",
    "for i in range(0,2):\n",
    "    temp=delta_j2[0,i]\n",
    "    temp1=np.delete(delta_j2,0,0)\n",
    "    c=weight_error((temp1[:,i]),weight1[i])\n",
    "    delta_j1=(a_l2)*(1-a_l2)*c\n",
    "delta_j1    "
   ]
  },
  {
   "cell_type": "code",
   "execution_count": 375,
   "metadata": {},
   "outputs": [
    {
     "data": {
      "text/plain": [
       "(array([[ 0.73503495,  0.54167403],\n",
       "        [ 0.3738808 ,  0.01637224],\n",
       "        [ 0.1621124 ,  0.41097207]]), 0.48297737426604026)"
      ]
     },
     "execution_count": 375,
     "metadata": {},
     "output_type": "execute_result"
    }
   ],
   "source": [
    "#Calculate new weight for input\n",
    "delta_w,delta_bias=calc_delta_w(delta_j1,x)\n",
    "weight=weight+delta_w\n",
    "bias=bias+delta_bias\n",
    "weight,bias"
   ]
  }
 ],
 "metadata": {
  "kernelspec": {
   "display_name": "Python 3",
   "language": "python",
   "name": "python3"
  },
  "language_info": {
   "codemirror_mode": {
    "name": "ipython",
    "version": 3
   },
   "file_extension": ".py",
   "mimetype": "text/x-python",
   "name": "python",
   "nbconvert_exporter": "python",
   "pygments_lexer": "ipython3",
   "version": "3.6.3"
  }
 },
 "nbformat": 4,
 "nbformat_minor": 2
}
