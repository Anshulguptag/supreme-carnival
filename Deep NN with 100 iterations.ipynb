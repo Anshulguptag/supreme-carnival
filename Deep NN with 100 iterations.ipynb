{
 "cells": [
  {
   "cell_type": "code",
   "execution_count": 311,
   "metadata": {
    "collapsed": true
   },
   "outputs": [],
   "source": [
    "import numpy as np\n",
    "import time\n",
    "import matplotlib.pyplot as plt"
   ]
  },
  {
   "cell_type": "code",
   "execution_count": 312,
   "metadata": {},
   "outputs": [
    {
     "data": {
      "text/plain": [
       "array([[ 0.84426417,  0.15215581,  0.04746848],\n",
       "       [ 0.69621585,  0.65431246,  0.35411346],\n",
       "       [ 0.95731972,  0.27748376,  0.68584094],\n",
       "       [ 0.78458662,  0.82842559,  0.34670078]])"
      ]
     },
     "execution_count": 312,
     "metadata": {},
     "output_type": "execute_result"
    }
   ],
   "source": [
    "x=np.random.rand(12).reshape(4,3)\n",
    "y=np.random.randint(0,2,4).reshape(4,1)\n",
    "x"
   ]
  },
  {
   "cell_type": "code",
   "execution_count": 313,
   "metadata": {
    "collapsed": true
   },
   "outputs": [],
   "source": [
    "theta=(np.random.randn(15)*0.1).reshape(5,3)\n",
    "b=np.random.rand(5).reshape(5,1)"
   ]
  },
  {
   "cell_type": "code",
   "execution_count": 314,
   "metadata": {},
   "outputs": [
    {
     "name": "stdout",
     "output_type": "stream",
     "text": [
      "1.1184215545654297 nanoseconds\n"
     ]
    }
   ],
   "source": [
    "#dimensions of each layer\n",
    "dimensions=np.array([5,4,3,2,1])\n",
    "\n",
    "#empty array of weights of all layers \n",
    "weights=np.zeros(len(dimensions)*(dimensions[0]**2)).reshape(len(dimensions),(dimensions[0]**2))\n",
    "\n",
    "#empty array of biases of all layers\n",
    "bias=np.zeros(len(dimensions)*dimensions[0]).reshape(len(dimensions),dimensions[0])\n",
    "\n",
    "#empty array of Zs of all layers\n",
    "Z=np.zeros(len(dimensions)*(dimensions[0]**2)).reshape(len(dimensions),(dimensions[0]**2))\n",
    "\n",
    "#empty array of as of all layers\n",
    "A=np.zeros(len(dimensions)*(dimensions[0]**2)).reshape(len(dimensions),dimensions[0]**2)\n",
    "\n",
    "#empty array for shapes of a\n",
    "shapes=np.zeros(10).reshape(5,2)\n",
    "\n",
    "#empty array for shapes of thetas\n",
    "shapes_thetas=np.zeros(10).reshape(5,2)\n",
    "\n",
    "#empty array for shapes of bias\n",
    "shapes_bias=np.zeros(10).reshape(5,2)\n",
    "\n",
    "tic=time.time()\n",
    "#loop for computation of z, a, theta and bias  of all layers expect input\n",
    "for i in range (0,len(dimensions)):\n",
    "    # array of z of each layer\n",
    "    z=np.zeros(dimensions[i]*len(x)).reshape(dimensions[i],len(x))\n",
    "    \n",
    "    \n",
    "    #print (theta.shape)\n",
    "    shapes_thetas[i]=theta.shape\n",
    "    \n",
    "    shapes_bias[i]=b.shape\n",
    "    #store all layer thetas in one array\n",
    "    k=0\n",
    "    for m in range(0,len(theta)):\n",
    "        for n in range(0,len(theta[0])):\n",
    "            weights[i][k]=theta[m][n]\n",
    "            k+=1\n",
    "    \n",
    "    #store all layer biases in one array        \n",
    "    c=0\n",
    "    for f in range(0,len(b)):\n",
    "        bias[i][c]=b[f][0]\n",
    "        c+=1\n",
    "    \n",
    "    #compute z of each layer\n",
    "    for j in range(0,len(theta)):\n",
    "        z[j]=np.dot(x,theta[j].T)+b[j]\n",
    "    z=z.T\n",
    "    #print (z.shape)\n",
    "    #store all layers Zs in one array\n",
    "    temp=0\n",
    "    for m in range(0,len(z)):\n",
    "        for n in range(0,len(z[0])):\n",
    "            Z[i][temp]=z[m][n]\n",
    "            temp+=1\n",
    "    \n",
    "    #compute a \n",
    "    a=1/(1+np.exp(-z))\n",
    "    shapes[i]=a.shape\n",
    "    if i==(len(dimensions)-1):\n",
    "        a=-y*np.log(a)+(1-y)*np.log(1-a)\n",
    "    #store all layers As in one array \n",
    "    temp=0\n",
    "    for m in range(0,len(a)):\n",
    "        for n in range(0,len(a[0])):\n",
    "            A[i][temp]=a[m][n]\n",
    "            temp+=1\n",
    "    \n",
    "    #make output of each layer as input of another layer\n",
    "    x=a\n",
    "    \n",
    "    #Go outside the loop \n",
    "    if i==(len(dimensions)-1):\n",
    "        break\n",
    "        \n",
    "    #generate new thetas and biases for each layer\n",
    "    theta=(np.random.randn(dimensions[i+1]*dimensions[i])*0.1).reshape(dimensions[i+1],dimensions[i])\n",
    "    b=np.random.rand(dimensions[i+1]).reshape(dimensions[i+1],1) \n",
    "toc=time.time()\n",
    "print ((toc-tic)*1000,'nanoseconds')   "
   ]
  },
  {
   "cell_type": "code",
   "execution_count": 315,
   "metadata": {},
   "outputs": [
    {
     "name": "stdout",
     "output_type": "stream",
     "text": [
      "0.717609746939\n"
     ]
    }
   ],
   "source": [
    "da=a-y \n",
    "print(np.mean(da**2))\n",
    "for i in range (len(dimensions)-1,-1,-1):\n",
    "    a=np.trim_zeros(A[i])\n",
    "    a=a.reshape(int(shapes[i][0]),int(shapes[i][1]))\n",
    "    b=np.trim_zeros(A[i-1])\n",
    "    b=b.reshape(int(shapes[i-1][0]),int(shapes[i-1][1]))\n",
    "    z1=np.trim_zeros(Z[i])\n",
    "    z1=z1.reshape(int(shapes[i][0]),int(shapes[i][1]))\n",
    "    dz=da*(a*(1-a))\n",
    "    dw=np.dot(b.T,dz)\n",
    "    dw=np.mean(dw,axis=0)\n",
    "    db=np.mean(dz,axis=0)\n",
    "    w=np.trim_zeros(weights[i])\n",
    "    w=w.reshape(int(shapes_thetas[i][0]),int(shapes_thetas[i][1]))\n",
    "    bi=np.trim_zeros(bias[i])\n",
    "    bi=bi.reshape(int(shapes_bias[i][0]),int(shapes_bias[i][1]))\n",
    "    for j in range(0,len(w)):\n",
    "        w[j]=w[j]*(1-(100*0.021)/len(x))-0.021*dw[j]\n",
    "    for l in range(0,len(bi)):\n",
    "        bi[l]=bi[l]-0.021*db[l]   \n",
    "    da=np.dot(dz,w)    "
   ]
  },
  {
   "cell_type": "markdown",
   "metadata": {},
   "source": [
    "# 100 more Iterations"
   ]
  },
  {
   "cell_type": "code",
   "execution_count": 319,
   "metadata": {},
   "outputs": [],
   "source": [
    "Jtheta=np.zeros(100)\n",
    "for q in range(0,100):\n",
    "    x=np.random.rand(12).reshape(4,3)\n",
    "    dimensions=np.array([5,4,3,2,1])\n",
    "    weights1=np.zeros(len(dimensions)*(dimensions[0]**2)).reshape(len(dimensions),(dimensions[0]**2))\n",
    "    bias1=np.zeros(len(dimensions)*dimensions[0]).reshape(len(dimensions),dimensions[0])\n",
    "    Z=np.zeros(len(dimensions)*(dimensions[0]**2)).reshape(len(dimensions),(dimensions[0]**2))\n",
    "    A=np.zeros(len(dimensions)*(dimensions[0]**2)).reshape(len(dimensions),dimensions[0]**2)\n",
    "    for i in range (0,len(dimensions)):\n",
    "        # array of z of each layer\n",
    "        z=np.zeros(dimensions[i]*len(x)).reshape(dimensions[i],len(x))\n",
    "        theta=np.trim_zeros(weights[i])\n",
    "        theta=theta.reshape(int(shapes_thetas[i][0]),int(shapes_thetas[i][1]))\n",
    "        b=np.trim_zeros(bias[i])\n",
    "        b=b.reshape(int(shapes_bias[i][0]),int(shapes_bias[i][1]))\n",
    "        #store all layer thetas in one array\n",
    "        k=0\n",
    "        for m in range(0,len(theta)):\n",
    "            for n in range(0,len(theta[0])):\n",
    "                weights1[i][k]=theta[m][n]\n",
    "                k+=1\n",
    "    \n",
    "        #store all layer biases in one array        \n",
    "        c=0\n",
    "        for f in range(0,len(b)):\n",
    "            bias1[i][c]=b[f][0]\n",
    "            c+=1\n",
    "        #compute z of each layer\n",
    "        for j in range(0,len(theta)):\n",
    "            z[j]=np.dot(x,theta[j].T)+b[j]\n",
    "        z=z.T\n",
    "        \n",
    "        #print (z.shape)\n",
    "        #store all layers Zs in one array\n",
    "        temp=0\n",
    "        for m in range(0,len(z)):\n",
    "            for n in range(0,len(z[0])):\n",
    "                Z[i][temp]=z[m][n]\n",
    "                temp+=1\n",
    "    \n",
    "        #compute a \n",
    "        a=1/(1+np.exp(-z))\n",
    "        shapes[i]=a.shape\n",
    "        if i==(len(dimensions)-1):\n",
    "            a=-y*np.log(a)+(1-y)*np.log(1-a)\n",
    "        #store all layers As in one array \n",
    "        temp=0\n",
    "        for m in range(0,len(a)):\n",
    "            for n in range(0,len(a[0])):\n",
    "                A[i][temp]=a[m][n]\n",
    "                temp+=1\n",
    "    \n",
    "        #make output of each layer as input of another layer\n",
    "        x=a\n",
    "    \n",
    "        #Go outside the loop \n",
    "        if i==(len(dimensions)-1):\n",
    "            break   \n",
    "    da=a-y \n",
    "    #print (np.mean(da**2))\n",
    "    Jtheta[q]=np.mean(da**2)\n",
    "    for i in range (len(dimensions)-1,-1,-1):\n",
    "        a=np.trim_zeros(A[i])\n",
    "        a=a.reshape(int(shapes[i][0]),int(shapes[i][1]))\n",
    "        b=np.trim_zeros(A[i-1])\n",
    "        b=b.reshape(int(shapes[i-1][0]),int(shapes[i-1][1]))\n",
    "        z1=np.trim_zeros(Z[i])\n",
    "        z1=z1.reshape(int(shapes[i][0]),int(shapes[i][1]))\n",
    "        dz=da*(a*(1-a))\n",
    "        dw=np.dot(b.T,dz)\n",
    "        dw=np.mean(dw,axis=0)\n",
    "        db=np.mean(dz,axis=0)\n",
    "        w=np.trim_zeros(weights1[i])\n",
    "        w=w.reshape(int(shapes_thetas[i][0]),int(shapes_thetas[i][1]))\n",
    "        bi=np.trim_zeros(bias1[i])\n",
    "        bi=bi.reshape(int(shapes_bias[i][0]),int(shapes_bias[i][1]))\n",
    "        for j in range(0,len(w)):\n",
    "            w[j]=w[j]*(1-(10000*0.021)/len(x))-0.021*dw[j]\n",
    "        for l in range(0,len(bi)):\n",
    "            bi[l]=bi[l]-0.021*db[l]   \n",
    "        da=np.dot(dz,w)\n",
    "    "
   ]
  }
 ],
 "metadata": {
  "kernelspec": {
   "display_name": "Python 3",
   "language": "python",
   "name": "python3"
  },
  "language_info": {
   "codemirror_mode": {
    "name": "ipython",
    "version": 3
   },
   "file_extension": ".py",
   "mimetype": "text/x-python",
   "name": "python",
   "nbconvert_exporter": "python",
   "pygments_lexer": "ipython3",
   "version": "3.6.3"
  }
 },
 "nbformat": 4,
 "nbformat_minor": 2
}
