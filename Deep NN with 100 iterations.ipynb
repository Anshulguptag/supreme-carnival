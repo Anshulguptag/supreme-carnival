{
 "cells": [
  {
   "cell_type": "code",
   "execution_count": 116,
   "metadata": {
    "collapsed": true
   },
   "outputs": [],
   "source": [
    "import numpy as np\n",
    "import time\n",
    "import matplotlib.pyplot as plt"
   ]
  },
  {
   "cell_type": "code",
   "execution_count": 117,
   "metadata": {},
   "outputs": [
    {
     "data": {
      "text/plain": [
       "array([[ 0.21853693,  0.10406395,  0.98705801,  0.41009209,  0.50617691],\n",
       "       [ 0.84313749,  0.00369721,  0.27653742,  0.54897532,  0.61273228],\n",
       "       [ 0.84060937,  0.38245069,  0.42028151,  0.23160113,  0.15682363],\n",
       "       [ 0.06705777,  0.49434372,  0.96417057,  0.91032585,  0.32068294]])"
      ]
     },
     "execution_count": 117,
     "metadata": {},
     "output_type": "execute_result"
    }
   ],
   "source": [
    "x=np.random.rand(20).reshape(4,5)\n",
    "y=np.random.randint(0,2,4).reshape(4,1)\n",
    "x"
   ]
  },
  {
   "cell_type": "code",
   "execution_count": 118,
   "metadata": {},
   "outputs": [],
   "source": [
    "theta=(np.random.randn(25)*0.1).reshape(5,5)\n",
    "b=np.random.rand(5).reshape(5,1)"
   ]
  },
  {
   "cell_type": "markdown",
   "metadata": {},
   "source": [
    "# Forward Propogation"
   ]
  },
  {
   "cell_type": "code",
   "execution_count": 119,
   "metadata": {},
   "outputs": [
    {
     "name": "stdout",
     "output_type": "stream",
     "text": [
      "1.003265380859375 nanoseconds\n"
     ]
    }
   ],
   "source": [
    "#dimensions of each layer\n",
    "dimensions=np.array([5,4,3,2,1])\n",
    "\n",
    "#empty array of weights of all layers \n",
    "weights=np.zeros(len(dimensions)*(dimensions[0]**2)).reshape(len(dimensions),(dimensions[0]**2))\n",
    "\n",
    "#empty array of biases of all layers\n",
    "bias=np.zeros(len(dimensions)*dimensions[0]).reshape(len(dimensions),dimensions[0])\n",
    "\n",
    "#empty array of Zs of all layers\n",
    "Z=np.zeros(len(dimensions)*(dimensions[0]**2)).reshape(len(dimensions),(dimensions[0]**2))\n",
    "\n",
    "#empty array of as of all layers\n",
    "A=np.zeros(len(dimensions)*(dimensions[0]**2)).reshape(len(dimensions),dimensions[0]**2)\n",
    "\n",
    "#empty array for shapes of a\n",
    "shapes=np.zeros(10).reshape(5,2)\n",
    "\n",
    "#empty array for shapes of thetas\n",
    "shapes_thetas=np.zeros(10).reshape(5,2)\n",
    "\n",
    "#empty array for shapes of bias\n",
    "shapes_bias=np.zeros(10).reshape(5,2)\n",
    "\n",
    "tic=time.time()\n",
    "#loop for computation of z, a, theta and bias  of all layers expect input\n",
    "for i in range (0,len(dimensions)):\n",
    "    # array of z of each layer\n",
    "    z=np.zeros(dimensions[i]*len(x)).reshape(dimensions[i],len(x))\n",
    "    \n",
    "    \n",
    "    #print (theta.shape)\n",
    "    shapes_thetas[i]=theta.shape\n",
    "    \n",
    "    shapes_bias[i]=b.shape\n",
    "    #store all layer thetas in one array\n",
    "    k=0\n",
    "    for m in range(0,len(theta)):\n",
    "        for n in range(0,len(theta[0])):\n",
    "            weights[i][k]=theta[m][n]\n",
    "            k+=1\n",
    "    \n",
    "    #store all layer biases in one array        \n",
    "    c=0\n",
    "    for f in range(0,len(b)):\n",
    "        bias[i][c]=b[f][0]\n",
    "        c+=1\n",
    "    \n",
    "    #compute z of each layer\n",
    "    for j in range(0,len(theta)):\n",
    "        z[j]=np.dot(x,theta[j].T)+b[j]\n",
    "    z=z.T\n",
    "    #print (z.shape)\n",
    "    #store all layers Zs in one array\n",
    "    temp=0\n",
    "    for m in range(0,len(z)):\n",
    "        for n in range(0,len(z[0])):\n",
    "            Z[i][temp]=z[m][n]\n",
    "            temp+=1\n",
    "    \n",
    "    #compute a \n",
    "    a=1/(1+np.exp(-z))\n",
    "    shapes[i]=a.shape\n",
    "    if i==(len(dimensions)-1):\n",
    "        a=-y*np.log(a)+(1-y)*np.log(1-a)\n",
    "    #store all layers As in one array \n",
    "    temp=0\n",
    "    for m in range(0,len(a)):\n",
    "        for n in range(0,len(a[0])):\n",
    "            A[i][temp]=a[m][n]\n",
    "            temp+=1\n",
    "    \n",
    "    #make output of each layer as input of another layer\n",
    "    x=a\n",
    "    \n",
    "    #Go outside the loop \n",
    "    if i==(len(dimensions)-1):\n",
    "        break\n",
    "        \n",
    "    #generate new thetas and biases for each layer\n",
    "    theta=(np.random.randn(dimensions[i+1]*dimensions[i])*0.1).reshape(dimensions[i+1],dimensions[i])\n",
    "    b=np.random.rand(dimensions[i+1]).reshape(dimensions[i+1],1) \n",
    "toc=time.time()\n",
    "print ((toc-tic)*1000,'nanoseconds')   "
   ]
  },
  {
   "cell_type": "markdown",
   "metadata": {},
   "source": [
    "# Backword Propogation"
   ]
  },
  {
   "cell_type": "code",
   "execution_count": 120,
   "metadata": {},
   "outputs": [
    {
     "name": "stdout",
     "output_type": "stream",
     "text": [
      "[[ -3.35344869e-10  -2.94606557e-10   6.24566828e-10  -2.25869399e-12\n",
      "    1.14678886e-11]\n",
      " [  3.96464771e-09   3.51220894e-09  -7.42326541e-09  -6.91386101e-11\n",
      "   -1.92033308e-10]\n",
      " [  4.01331654e-09   3.54758459e-09  -7.45635735e-09  -4.88056996e-11\n",
      "   -1.84689491e-10]\n",
      " [  3.95243686e-09   3.47674140e-09  -7.37671528e-09   2.92298843e-12\n",
      "   -1.52997497e-10]]\n"
     ]
    }
   ],
   "source": [
    "da=a-y \n",
    "#print(np.mean(da**2))\n",
    "for i in range (len(dimensions)-1,-1,-1):\n",
    "    a=np.trim_zeros(A[i])\n",
    "    a=a.reshape(int(shapes[i][0]),int(shapes[i][1]))\n",
    "    b=np.trim_zeros(A[i-1])\n",
    "    b=b.reshape(int(shapes[i-1][0]),int(shapes[i-1][1]))\n",
    "    z1=np.trim_zeros(Z[i])\n",
    "    z1=z1.reshape(int(shapes[i][0]),int(shapes[i][1]))\n",
    "    dz=da*(a*(1-a))\n",
    "    dw=np.dot(b.T,dz)\n",
    "    dw=np.mean(dw,axis=0)\n",
    "    db=np.mean(dz,axis=0)\n",
    "    w=np.trim_zeros(weights[i])\n",
    "    w=w.reshape(int(shapes_thetas[i][0]),int(shapes_thetas[i][1]))\n",
    "    bi=np.trim_zeros(bias[i])\n",
    "    bi=bi.reshape(int(shapes_bias[i][0]),int(shapes_bias[i][1]))\n",
    "    for j in range(0,len(w)):\n",
    "        w[j]=w[j]*(1-(100*0.021)/len(x))-0.021*dw[j]\n",
    "    for l in range(0,len(bi)):\n",
    "        bi[l]=bi[l]-0.021*db[l]   \n",
    "    da=np.dot(dz,w)\n",
    "print (da)    "
   ]
  },
  {
   "cell_type": "markdown",
   "metadata": {},
   "source": [
    "# 100 more Iterations"
   ]
  },
  {
   "cell_type": "code",
   "execution_count": 121,
   "metadata": {},
   "outputs": [
    {
     "name": "stdout",
     "output_type": "stream",
     "text": [
      "1287.1623039245605 nanoseconds\n"
     ]
    }
   ],
   "source": [
    "Jtheta=np.zeros(650)\n",
    "tic=time.time()\n",
    "for q in range(0,len(Jtheta)):\n",
    "    x=np.random.rand(20).reshape(4,5)\n",
    "    dimensions=np.array([5,4,3,2,1])\n",
    "    Z=np.zeros(len(dimensions)*(dimensions[0]**2)).reshape(len(dimensions),(dimensions[0]**2))\n",
    "    A=np.zeros(len(dimensions)*(dimensions[0]**2)).reshape(len(dimensions),dimensions[0]**2)\n",
    "    for i in range (0,len(dimensions)):\n",
    "        # array of z of each layer\n",
    "        z=np.zeros(dimensions[i]*len(x)).reshape(dimensions[i],len(x))\n",
    "        theta=np.trim_zeros(weights[i])\n",
    "        theta=theta.reshape(int(shapes_thetas[i][0]),int(shapes_thetas[i][1]))\n",
    "        b=np.trim_zeros(bias[i])\n",
    "        b=b.reshape(int(shapes_bias[i][0]),int(shapes_bias[i][1]))\n",
    "        #store all layer thetas in one array\n",
    "        k=0\n",
    "        for m in range(0,len(theta)):\n",
    "            for n in range(0,len(theta[0])):\n",
    "                weights[i][k]=theta[m][n]\n",
    "                k+=1\n",
    "    \n",
    "        #store all layer biases in one array        \n",
    "        c=0\n",
    "        for f in range(0,len(b)):\n",
    "            bias[i][c]=b[f][0]\n",
    "            c+=1\n",
    "        #compute z of each layer\n",
    "        for j in range(0,len(theta)):\n",
    "            z[j]=np.dot(x,theta[j].T)+b[j]\n",
    "        z=z.T\n",
    "        \n",
    "        #print (z.shape)\n",
    "        #store all layers Zs in one array\n",
    "        temp=0\n",
    "        for m in range(0,len(z)):\n",
    "            for n in range(0,len(z[0])):\n",
    "                Z[i][temp]=z[m][n]\n",
    "                temp+=1\n",
    "    \n",
    "        #compute a \n",
    "        a=1/(1+np.exp(-z))\n",
    "        shapes[i]=a.shape\n",
    "        if i==(len(dimensions)-1):\n",
    "            a=-y*np.log(a)+(1-y)*np.log(1-a)\n",
    "        #store all layers As in one array \n",
    "        temp=0\n",
    "        for m in range(0,len(a)):\n",
    "            for n in range(0,len(a[0])):\n",
    "                A[i][temp]=a[m][n]\n",
    "                temp+=1\n",
    "    \n",
    "        #make output of each layer as input of another layer\n",
    "        x=a\n",
    "    \n",
    "        #Go outside the loop \n",
    "        if i==(len(dimensions)-1):\n",
    "            break   \n",
    "    da=a-y \n",
    "    #print (np.mean(da**2))\n",
    "    Jtheta[q]=np.mean(da**2)\n",
    "    for i in range (len(dimensions)-1,-1,-1):\n",
    "        a=np.trim_zeros(A[i])\n",
    "        a=a.reshape(int(shapes[i][0]),int(shapes[i][1]))\n",
    "        b=np.trim_zeros(A[i-1])\n",
    "        b=b.reshape(int(shapes[i-1][0]),int(shapes[i-1][1]))\n",
    "        z1=np.trim_zeros(Z[i])\n",
    "        z1=z1.reshape(int(shapes[i][0]),int(shapes[i][1]))\n",
    "        dz=da*(a*(1-a))\n",
    "        dw=np.dot(b.T,dz)\n",
    "        dw=np.mean(dw,axis=0)\n",
    "        db=np.mean(dz,axis=0)\n",
    "        w=np.trim_zeros(weights[i])\n",
    "        w=w.reshape(int(shapes_thetas[i][0]),int(shapes_thetas[i][1]))\n",
    "        bi=np.trim_zeros(bias[i])\n",
    "        bi=bi.reshape(int(shapes_bias[i][0]),int(shapes_bias[i][1]))\n",
    "        for j in range(0,len(w)):\n",
    "            w[j]=w[j]*(1-(10*0.021)/len(x))-0.021*dw[j]\n",
    "        for l in range(0,len(bi)):\n",
    "            bi[l]=bi[l]-0.021*db[l]   \n",
    "        da=np.dot(dz,w) \n",
    "toc=time.time()\n",
    "print((toc-tic)*1000,'nanoseconds')"
   ]
  },
  {
   "cell_type": "code",
   "execution_count": 124,
   "metadata": {},
   "outputs": [],
   "source": [
    "Jtheta=Jtheta*100"
   ]
  },
  {
   "cell_type": "code",
   "execution_count": 123,
   "metadata": {},
   "outputs": [
    {
     "data": {
      "image/png": "[encoded data removed]",
      "text/plain": [
       "<matplotlib.figure.Figure at 0x27edcbf4748>"
      ]
     },
     "metadata": {},
     "output_type": "display_data"
    }
   ],
   "source": [
    "iterations=np.arange(1,len(Jtheta)+1)\n",
    "plt.plot(iterations,Jtheta)\n",
    "plt.show()"
   ]
  }
 ],
 "metadata": {
  "kernelspec": {
   "display_name": "Python 3",
   "language": "python",
   "name": "python3"
  },
  "language_info": {
   "codemirror_mode": {
    "name": "ipython",
    "version": 3
   },
   "file_extension": ".py",
   "mimetype": "text/x-python",
   "name": "python",
   "nbconvert_exporter": "python",
   "pygments_lexer": "ipython3",
   "version": "3.6.3"
  }
 },
 "nbformat": 4,
 "nbformat_minor": 2
}
