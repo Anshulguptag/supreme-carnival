{
 "cells": [
  {
   "cell_type": "code",
   "execution_count": 22,
   "metadata": {
    "collapsed": true
   },
   "outputs": [],
   "source": [
    "import numpy as np\n",
    "import time\n",
    "import matplotlib.pyplot as plt"
   ]
  },
  {
   "cell_type": "code",
   "execution_count": 23,
   "metadata": {},
   "outputs": [
    {
     "data": {
      "text/plain": [
       "array([[ 0.48098167,  0.79859476,  0.92752445,  0.25969405,  0.82661996],\n",
       "       [ 0.78593092,  0.57754331,  0.76896711,  0.77882425,  0.5567151 ],\n",
       "       [ 0.15234616,  0.02505187,  0.02165224,  0.67073089,  0.08348219],\n",
       "       [ 0.72532292,  0.22207833,  0.01795738,  0.92786461,  0.6506352 ]])"
      ]
     },
     "execution_count": 23,
     "metadata": {},
     "output_type": "execute_result"
    }
   ],
   "source": [
    "x=np.random.rand(20).reshape(4,5)\n",
    "y=np.random.randint(0,2,4).reshape(4,1)\n",
    "x"
   ]
  },
  {
   "cell_type": "code",
   "execution_count": 24,
   "metadata": {
    "collapsed": true
   },
   "outputs": [],
   "source": [
    "theta=(np.random.randn(25)*0.1).reshape(5,5)\n",
    "b=np.random.rand(5).reshape(5,1)"
   ]
  },
  {
   "cell_type": "markdown",
   "metadata": {},
   "source": [
    "# Forward Propogation"
   ]
  },
  {
   "cell_type": "code",
   "execution_count": 25,
   "metadata": {},
   "outputs": [
    {
     "name": "stdout",
     "output_type": "stream",
     "text": [
      "1.003265380859375 nanoseconds\n"
     ]
    }
   ],
   "source": [
    "#dimensions of each layer\n",
    "dimensions=np.array([5,4,3,2,1])\n",
    "\n",
    "#empty array of weights of all layers \n",
    "weights=np.zeros(len(dimensions)*(dimensions[0]**2)).reshape(len(dimensions),(dimensions[0]**2))\n",
    "\n",
    "#empty array of biases of all layers\n",
    "bias=np.zeros(len(dimensions)*dimensions[0]).reshape(len(dimensions),dimensions[0])\n",
    "\n",
    "#empty array of Zs of all layers\n",
    "Z=np.zeros(len(dimensions)*(dimensions[0]**2)).reshape(len(dimensions),(dimensions[0]**2))\n",
    "\n",
    "#empty array of as of all layers\n",
    "A=np.zeros(len(dimensions)*(dimensions[0]**2)).reshape(len(dimensions),dimensions[0]**2)\n",
    "\n",
    "#empty array for shapes of a\n",
    "shapes=np.zeros(10).reshape(5,2)\n",
    "\n",
    "#empty array for shapes of thetas\n",
    "shapes_thetas=np.zeros(10).reshape(5,2)\n",
    "\n",
    "#empty array for shapes of bias\n",
    "shapes_bias=np.zeros(10).reshape(5,2)\n",
    "\n",
    "tic=time.time()\n",
    "#loop for computation of z, a, theta and bias  of all layers expect input\n",
    "for i in range (0,len(dimensions)):\n",
    "    # array of z of each layer\n",
    "    z=np.zeros(dimensions[i]*len(x)).reshape(dimensions[i],len(x))\n",
    "    \n",
    "    \n",
    "    #print (theta.shape)\n",
    "    shapes_thetas[i]=theta.shape\n",
    "    \n",
    "    shapes_bias[i]=b.shape\n",
    "    #store all layer thetas in one array\n",
    "    k=0\n",
    "    for m in range(0,len(theta)):\n",
    "        for n in range(0,len(theta[0])):\n",
    "            weights[i][k]=theta[m][n]\n",
    "            k+=1\n",
    "    \n",
    "    #store all layer biases in one array        \n",
    "    c=0\n",
    "    for f in range(0,len(b)):\n",
    "        bias[i][c]=b[f][0]\n",
    "        c+=1\n",
    "    \n",
    "    #compute z of each layer\n",
    "    for j in range(0,len(theta)):\n",
    "        z[j]=np.dot(x,theta[j].T)+b[j]\n",
    "    z=z.T\n",
    "    #print (z.shape)\n",
    "    #store all layers Zs in one array\n",
    "    temp=0\n",
    "    for m in range(0,len(z)):\n",
    "        for n in range(0,len(z[0])):\n",
    "            Z[i][temp]=z[m][n]\n",
    "            temp+=1\n",
    "    \n",
    "    #compute a \n",
    "    a=1/(1+np.exp(-z))\n",
    "    shapes[i]=a.shape\n",
    "    if i==(len(dimensions)-1):\n",
    "        a=-y*np.log(a)+(1-y)*np.log(1-a)\n",
    "    #store all layers As in one array \n",
    "    temp=0\n",
    "    for m in range(0,len(a)):\n",
    "        for n in range(0,len(a[0])):\n",
    "            A[i][temp]=a[m][n]\n",
    "            temp+=1\n",
    "    \n",
    "    #make output of each layer as input of another layer\n",
    "    x=a\n",
    "    \n",
    "    #Go outside the loop \n",
    "    if i==(len(dimensions)-1):\n",
    "        break\n",
    "        \n",
    "    #generate new thetas and biases for each layer\n",
    "    theta=(np.random.randn(dimensions[i+1]*dimensions[i])*0.1).reshape(dimensions[i+1],dimensions[i])\n",
    "    b=np.random.rand(dimensions[i+1]).reshape(dimensions[i+1],1) \n",
    "toc=time.time()\n",
    "print ((toc-tic)*1000,'nanoseconds')   "
   ]
  },
  {
   "cell_type": "markdown",
   "metadata": {},
   "source": [
    "# Backword Propogation"
   ]
  },
  {
   "cell_type": "code",
   "execution_count": 26,
   "metadata": {},
   "outputs": [
    {
     "name": "stdout",
     "output_type": "stream",
     "text": [
      "[[-0.02751366  0.00314241 -0.05790203  0.02348196  0.01143885  0.00588436\n",
      "  -0.04908468  0.03878258  0.0300421   0.05667083  0.01836169 -0.00015721\n",
      "  -0.00297902 -0.03120187  0.00095636  0.01212224 -0.04392944  0.05148014\n",
      "   0.06002038 -0.00542213  0.07129005  0.02282604  0.02087613  0.0069762\n",
      "  -0.06270006]\n",
      " [ 0.0437445  -0.02628534  0.01705786  0.02400014 -0.07306034 -0.05819833\n",
      "  -0.03581923  0.07974947  0.02034357 -0.00604612 -0.0261798   0.02399018\n",
      "  -0.06140642 -0.01750963  0.04299912 -0.01017676 -0.00458055 -0.10601126\n",
      "   0.08459955 -0.00255937  0.          0.          0.          0.          0.        ]\n",
      " [ 0.01721087  0.02976944  0.05370006  0.00050938  0.02793382 -0.09031115\n",
      "   0.02446476  0.01787956 -0.01471084  0.00789038 -0.03021706 -0.04538508\n",
      "   0.          0.          0.          0.          0.          0.          0.\n",
      "   0.          0.          0.          0.          0.          0.        ]\n",
      " [ 0.03801038  0.09409713 -0.06237627 -0.05497298 -0.06390042  0.07467222\n",
      "   0.          0.          0.          0.          0.          0.          0.\n",
      "   0.          0.          0.          0.          0.          0.          0.\n",
      "   0.          0.          0.          0.          0.        ]\n",
      " [-0.10908029 -0.1312806   0.          0.          0.          0.          0.\n",
      "   0.          0.          0.          0.          0.          0.          0.\n",
      "   0.          0.          0.          0.          0.          0.          0.\n",
      "   0.          0.          0.          0.        ]]\n"
     ]
    }
   ],
   "source": [
    "da=a-y \n",
    "#print(np.mean(da**2))\n",
    "for i in range (len(dimensions)-1,-1,-1):\n",
    "    a=np.trim_zeros(A[i])\n",
    "    a=a.reshape(int(shapes[i][0]),int(shapes[i][1]))\n",
    "    b=np.trim_zeros(A[i-1])\n",
    "    b=b.reshape(int(shapes[i-1][0]),int(shapes[i-1][1]))\n",
    "    z1=np.trim_zeros(Z[i])\n",
    "    z1=z1.reshape(int(shapes[i][0]),int(shapes[i][1]))\n",
    "    dz=da*(a*(1-a))\n",
    "    dw=np.dot(b.T,dz)\n",
    "    dw=np.mean(dw,axis=0)\n",
    "    db=np.mean(dz,axis=0)\n",
    "    w=np.trim_zeros(weights[i])\n",
    "    w=w.reshape(int(shapes_thetas[i][0]),int(shapes_thetas[i][1]))\n",
    "    bi=np.trim_zeros(bias[i])\n",
    "    bi=bi.reshape(int(shapes_bias[i][0]),int(shapes_bias[i][1]))\n",
    "    for j in range(0,len(w)):\n",
    "        w[j]=w[j]*(1-(100*0.021)/len(x))-0.021*dw[j]\n",
    "    for l in range(0,len(bi)):\n",
    "        bi[l]=bi[l]-0.021*db[l]   \n",
    "    da=np.dot(dz,w)\n",
    "print (weights)    "
   ]
  },
  {
   "cell_type": "markdown",
   "metadata": {},
   "source": [
    "# 100 more Iterations"
   ]
  },
  {
   "cell_type": "code",
   "execution_count": 27,
   "metadata": {},
   "outputs": [
    {
     "name": "stdout",
     "output_type": "stream",
     "text": [
      "9555.806398391724 nanoseconds\n"
     ]
    }
   ],
   "source": [
    "Jtheta=np.zeros(10000)\n",
    "tic=time.time()\n",
    "for q in range(0,len(Jtheta)):\n",
    "    x=np.random.rand(20).reshape(4,5)\n",
    "    dimensions=np.array([5,4,3,2,1])\n",
    "    Z=np.zeros(len(dimensions)*(dimensions[0]**2)).reshape(len(dimensions),(dimensions[0]**2))\n",
    "    A=np.zeros(len(dimensions)*(dimensions[0]**2)).reshape(len(dimensions),dimensions[0]**2)\n",
    "    for i in range (0,len(dimensions)):\n",
    "        # array of z of each layer\n",
    "        z=np.zeros(dimensions[i]*len(x)).reshape(dimensions[i],len(x))\n",
    "        theta=np.trim_zeros(weights[i])\n",
    "        theta=theta.reshape(int(shapes_thetas[i][0]),int(shapes_thetas[i][1]))\n",
    "        b=np.trim_zeros(bias[i])\n",
    "        b=b.reshape(int(shapes_bias[i][0]),int(shapes_bias[i][1]))\n",
    "        #store all layer thetas in one array\n",
    "        k=0\n",
    "        for m in range(0,len(theta)):\n",
    "            for n in range(0,len(theta[0])):\n",
    "                weights[i][k]=theta[m][n]\n",
    "                k+=1\n",
    "    \n",
    "        #store all layer biases in one array        \n",
    "        c=0\n",
    "        for f in range(0,len(b)):\n",
    "            bias[i][c]=b[f][0]\n",
    "            c+=1\n",
    "        #compute z of each layer\n",
    "        for j in range(0,len(theta)):\n",
    "            z[j]=np.dot(x,theta[j].T)+b[j]\n",
    "        z=z.T\n",
    "        \n",
    "        #print (z.shape)\n",
    "        #store all layers Zs in one array\n",
    "        temp=0\n",
    "        for m in range(0,len(z)):\n",
    "            for n in range(0,len(z[0])):\n",
    "                Z[i][temp]=z[m][n]\n",
    "                temp+=1\n",
    "    \n",
    "        #compute a \n",
    "        a=1/(1+np.exp(-z))\n",
    "        shapes[i]=a.shape\n",
    "        if i==(len(dimensions)-1):\n",
    "            a=-y*np.log(a)+(1-y)*np.log(1-a)\n",
    "        #store all layers As in one array \n",
    "        temp=0\n",
    "        for m in range(0,len(a)):\n",
    "            for n in range(0,len(a[0])):\n",
    "                A[i][temp]=a[m][n]\n",
    "                temp+=1\n",
    "    \n",
    "        #make output of each layer as input of another layer\n",
    "        x=a\n",
    "    \n",
    "        #Go outside the loop \n",
    "        if i==(len(dimensions)-1):\n",
    "            break   \n",
    "    da=a-y \n",
    "    #print (np.mean(da**2))\n",
    "    Jtheta[q]=np.mean(da**2)\n",
    "    for i in range (len(dimensions)-1,-1,-1):\n",
    "        a=np.trim_zeros(A[i])\n",
    "        a=a.reshape(int(shapes[i][0]),int(shapes[i][1]))\n",
    "        b=np.trim_zeros(A[i-1])\n",
    "        b=b.reshape(int(shapes[i-1][0]),int(shapes[i-1][1]))\n",
    "        z1=np.trim_zeros(Z[i])\n",
    "        z1=z1.reshape(int(shapes[i][0]),int(shapes[i][1]))\n",
    "        dz=da*(a*(1-a))\n",
    "        dw=np.dot(b.T,dz)\n",
    "        dw=np.mean(dw,axis=0)\n",
    "        db=np.mean(dz,axis=0)\n",
    "        w=np.trim_zeros(weights[i])\n",
    "        w=w.reshape(int(shapes_thetas[i][0]),int(shapes_thetas[i][1]))\n",
    "        bi=np.trim_zeros(bias[i])\n",
    "        bi=bi.reshape(int(shapes_bias[i][0]),int(shapes_bias[i][1]))\n",
    "        for j in range(0,len(w)):\n",
    "            w[j]=w[j]*(1-(10*0.021)/len(x))-0.021*dw[j]\n",
    "        for l in range(0,len(bi)):\n",
    "            bi[l]=bi[l]-0.021*db[l]   \n",
    "        da=np.dot(dz,w) \n",
    "toc=time.time()\n",
    "print((toc-tic)*1000,'nanoseconds')"
   ]
  },
  {
   "cell_type": "code",
   "execution_count": 30,
   "metadata": {},
   "outputs": [
    {
     "data": {
      "text/plain": [
       "0.23600413901072276"
      ]
     },
     "execution_count": 30,
     "metadata": {},
     "output_type": "execute_result"
    }
   ],
   "source": [
    "(Jtheta*100).min()"
   ]
  }
 ],
 "metadata": {
  "kernelspec": {
   "display_name": "Python 3",
   "language": "python",
   "name": "python3"
  },
  "language_info": {
   "codemirror_mode": {
    "name": "ipython",
    "version": 3
   },
   "file_extension": ".py",
   "mimetype": "text/x-python",
   "name": "python",
   "nbconvert_exporter": "python",
   "pygments_lexer": "ipython3",
   "version": "3.6.3"
  }
 },
 "nbformat": 4,
 "nbformat_minor": 2
}
