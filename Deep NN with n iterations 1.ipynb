{
 "cells": [
  {
   "cell_type": "code",
   "execution_count": 1797,
   "metadata": {
    "collapsed": true
   },
   "outputs": [],
   "source": [
    "import numpy as np\n",
    "from sklearn.model_selection import train_test_split\n",
    "import matplotlib.pyplot as plt\n",
    "import pandas as pd"
   ]
  },
  {
   "cell_type": "code",
   "execution_count": 1798,
   "metadata": {},
   "outputs": [],
   "source": [
    "CSV=pd.read_csv('Data.csv')\n",
    "data=np.array(CSV)\n",
    "data=data[:,0:5]\n",
    "input1=data.reshape(10,5)\n",
    "output=np.random.randint(0,2,len(input1)).reshape(len(input1),1)\n",
    "trainx,testx,trainy,testy=train_test_split(input1, output, test_size=0.4, shuffle=False)\n",
    "cvx,testx,cvy,testy=train_test_split(testx,testy, test_size=0.5,shuffle=False)\n"
   ]
  },
  {
   "cell_type": "code",
   "execution_count": 1799,
   "metadata": {},
   "outputs": [],
   "source": [
    "def Neural_Net(x,t,y):\n",
    "    theta=(np.random.randn(25).reshape(5,5))*(np.sqrt(2/len(x[0])))\n",
    "    b=np.random.rand(5).reshape(5,1)\n",
    "    dimensions=np.array([5,4,3,1])\n",
    "    A=[]\n",
    "    Z=[]\n",
    "    weights=[]\n",
    "    bias=[]\n",
    "    for i in range(0,len(dimensions)):\n",
    "        weights.append(theta)\n",
    "        bias.append(b)\n",
    "        z=[]\n",
    "        z1=[]\n",
    "        for j in range(0,len(theta)):\n",
    "            z.append(np.dot(x,theta[j].T)+b[j])\n",
    "            z1=np.array(z) \n",
    "        Z.append(z1.T)    \n",
    "        a=1/(1+np.exp(-z1))\n",
    "        x=a.T\n",
    "        A.append(x)\n",
    "        if i==(len(dimensions)-1):\n",
    "            break\n",
    "        theta=(np.random.randn(dimensions[i]*dimensions[i+1]).reshape(dimensions[i+1],dimensions[i]))*(np.sqrt(2/len(x[0])))\n",
    "        b=(np.random.randn(dimensions[i+1]).reshape(dimensions[i+1],1)) \n",
    "    dz=A[len(dimensions)-1]-y\n",
    "    for i in range(len(dimensions)-1,-1,-1):\n",
    "        a=A[i-1]\n",
    "        temp=dz\n",
    "        dw=np.mean(np.dot(a.T,dz),axis=1)\n",
    "        db=np.mean(dz,axis=0)\n",
    "        db=db.reshape(len(db),1)\n",
    "        b=bias[i]\n",
    "        w=weights[i] \n",
    "        w=w-0.21*dw\n",
    "        b=b-0.21*db\n",
    "        weights[i]=w\n",
    "        bias[i]=b\n",
    "        dz=np.dot(temp,w)*(a*(1-a))   \n",
    "    Jtheta=np.zeros(500)\n",
    "    for q in range(0,len(Jtheta)):\n",
    "        x=t\n",
    "        dimensions=np.array([5,4,3,1])\n",
    "        A=[]\n",
    "        Z=[]\n",
    "        for i in range(0,len(dimensions)):\n",
    "            z=[]\n",
    "            z1=[]\n",
    "            theta=weights[i]\n",
    "            b=bias[i]\n",
    "            for j in range(0,len(theta)):\n",
    "                z.append(np.dot(x,theta[j].T)+b[j])\n",
    "                z1=np.array(z) \n",
    "            Z.append(z1.T)    \n",
    "            a=1/(1+np.exp(-z1))\n",
    "            x=a.T\n",
    "            A.append(x)\n",
    "            if i==(len(dimensions)-1):\n",
    "                break\n",
    "        dz=A[len(dimensions)-1]-y\n",
    "        Jtheta[q]=np.mean(dz**2)\n",
    "        for i in range(len(dimensions)-1,-1,-1):\n",
    "            a=A[i-1]\n",
    "            temp=dz\n",
    "            dw=np.mean(np.dot(a.T,dz),axis=1)\n",
    "            db=np.mean(dz,axis=0)\n",
    "            db=db.reshape(len(db),1)\n",
    "            w=weights[i]\n",
    "            b=bias[i]\n",
    "            w=w-0.21*dw\n",
    "            b=b-0.21*db\n",
    "            weights[i]=w\n",
    "            bias[i]=b\n",
    "            dz=np.dot(temp,w)*(a*(1-a))  \n",
    "    Jtheta=Jtheta*100        \n",
    "    return (Jtheta)"
   ]
  },
  {
   "cell_type": "code",
   "execution_count": 1800,
   "metadata": {},
   "outputs": [],
   "source": [
    "x=trainx\n",
    "tempx=x\n",
    "y=trainy\n",
    "cost=Neural_Net(x,tempx,y)"
   ]
  },
  {
   "cell_type": "code",
   "execution_count": 1801,
   "metadata": {
    "collapsed": true
   },
   "outputs": [],
   "source": [
    "x=cvx\n",
    "tempx=x\n",
    "y=cvy\n",
    "cost1=Neural_Net(x,tempx,y)"
   ]
  },
  {
   "cell_type": "code",
   "execution_count": 1802,
   "metadata": {},
   "outputs": [
    {
     "data": {
      "image/png": "[encoded data removed]",
      "text/plain": [
       "<matplotlib.figure.Figure at 0x16c8daac978>"
      ]
     },
     "metadata": {},
     "output_type": "display_data"
    }
   ],
   "source": [
    "iterations=np.arange(1,len(cost)+1,1)\n",
    "plt.plot(iterations,cost1)\n",
    "plt.plot(iterations,cost)\n",
    "plt.show()"
   ]
  }
 ],
 "metadata": {
  "kernelspec": {
   "display_name": "Python 3",
   "language": "python",
   "name": "python3"
  },
  "language_info": {
   "codemirror_mode": {
    "name": "ipython",
    "version": 3
   },
   "file_extension": ".py",
   "mimetype": "text/x-python",
   "name": "python",
   "nbconvert_exporter": "python",
   "pygments_lexer": "ipython3",
   "version": "3.6.3"
  }
 },
 "nbformat": 4,
 "nbformat_minor": 2
}
