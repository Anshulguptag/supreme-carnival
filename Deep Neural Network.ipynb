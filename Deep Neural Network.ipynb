{
 "cells": [
  {
   "cell_type": "code",
   "execution_count": 1666,
   "metadata": {
    "collapsed": true
   },
   "outputs": [],
   "source": [
    "import numpy as np\n",
    "import time"
   ]
  },
  {
   "cell_type": "code",
   "execution_count": 1667,
   "metadata": {},
   "outputs": [
    {
     "data": {
      "text/plain": [
       "array([[  1.39500477e-01,   5.61470802e-01,   9.72927769e-01],\n",
       "       [  4.80787931e-01,   3.43819375e-02,   2.82004834e-01],\n",
       "       [  9.20560882e-01,   9.71241034e-01,   6.05636754e-01],\n",
       "       [  5.89425027e-01,   8.55702125e-01,   5.07748149e-04]])"
      ]
     },
     "execution_count": 1667,
     "metadata": {},
     "output_type": "execute_result"
    }
   ],
   "source": [
    "x=np.random.rand(12).reshape(4,3)\n",
    "x"
   ]
  },
  {
   "cell_type": "code",
   "execution_count": 1668,
   "metadata": {
    "collapsed": true
   },
   "outputs": [],
   "source": [
    "y=np.random.randint(0,2,4).reshape(4,1)"
   ]
  },
  {
   "cell_type": "code",
   "execution_count": 1669,
   "metadata": {},
   "outputs": [
    {
     "name": "stdout",
     "output_type": "stream",
     "text": [
      "[[ 0.07974715  0.07760073  0.23053318]\n",
      " [-0.06290633 -0.02095342  0.08009875]\n",
      " [ 0.00092499 -0.08012218 -0.08876821]\n",
      " [-0.15600683 -0.12057702 -0.14562559]\n",
      " [ 0.0829836   0.10180823 -0.06107614]]\n",
      "[[ 0.54246289]\n",
      " [ 0.52506944]\n",
      " [ 0.30295833]\n",
      " [ 0.15221704]\n",
      " [ 0.96576197]]\n"
     ]
    }
   ],
   "source": [
    "theta=(np.random.randn(15)*0.1).reshape(5,3)\n",
    "b=np.random.rand(5).reshape(5,1)\n",
    "print (theta)\n",
    "print (b)"
   ]
  },
  {
   "cell_type": "markdown",
   "metadata": {},
   "source": [
    "# Forward Propogation"
   ]
  },
  {
   "cell_type": "code",
   "execution_count": 1670,
   "metadata": {},
   "outputs": [
    {
     "name": "stdout",
     "output_type": "stream",
     "text": [
      "0.0 nanoseconds\n"
     ]
    }
   ],
   "source": [
    "#dimensions of each layer\n",
    "dimensions=np.array([5,4,3,2,1])\n",
    "\n",
    "#empty array of weights of all layers \n",
    "weights=np.zeros(len(dimensions)*(dimensions[0]**2)).reshape(len(dimensions),(dimensions[0]**2))\n",
    "\n",
    "#empty array of biases of all layers\n",
    "bias=np.zeros(len(dimensions)*dimensions[0]).reshape(len(dimensions),dimensions[0])\n",
    "\n",
    "#empty array of Zs of all layers\n",
    "Z=np.zeros(len(dimensions)*(dimensions[0]**2)).reshape(len(dimensions),(dimensions[0]**2))\n",
    "\n",
    "#empty array of as of all layers\n",
    "A=np.zeros(len(dimensions)*(dimensions[0]**2)).reshape(len(dimensions),dimensions[0]**2)\n",
    "\n",
    "#empty array for shapes of a\n",
    "shapes=np.zeros(10).reshape(5,2)\n",
    "\n",
    "#empty array for shapes of thetas\n",
    "shapes_thetas=np.zeros(10).reshape(5,2)\n",
    "\n",
    "#empty array for shapes of bias\n",
    "shapes_bias=np.zeros(10).reshape(5,2)\n",
    "\n",
    "tic=time.time()\n",
    "#loop for computation of z, a, theta and bias  of all layers expect input\n",
    "for i in range (0,len(dimensions)):\n",
    "    # array of z of each layer\n",
    "    z=np.zeros(dimensions[i]*len(x)).reshape(dimensions[i],len(x))\n",
    "    \n",
    "    \n",
    "    #print (theta.shape)\n",
    "    shapes_thetas[i]=theta.shape\n",
    "    \n",
    "    shapes_bias[i]=b.shape\n",
    "    #store all layer thetas in one array\n",
    "    k=0\n",
    "    for m in range(0,len(theta)):\n",
    "        for n in range(0,len(theta[0])):\n",
    "            weights[i][k]=theta[m][n]\n",
    "            k+=1\n",
    "    \n",
    "    #store all layer biases in one array        \n",
    "    c=0\n",
    "    for f in range(0,len(b)):\n",
    "        bias[i][c]=b[f][0]\n",
    "        c+=1\n",
    "    \n",
    "    #compute z of each layer\n",
    "    for j in range(0,len(theta)):\n",
    "        z[j]=np.dot(x,theta[j].T)+b[j]\n",
    "    z=z.T\n",
    "    #print (z.shape)\n",
    "    #store all layers Zs in one array\n",
    "    temp=0\n",
    "    for m in range(0,len(z)):\n",
    "        for n in range(0,len(z[0])):\n",
    "            Z[i][temp]=z[m][n]\n",
    "            temp+=1\n",
    "    \n",
    "    #compute a \n",
    "    a=1/(1+np.exp(-z))\n",
    "    shapes[i]=a.shape\n",
    "    if i==(len(dimensions)-1):\n",
    "        a=-y*np.log(a)+(1-y)*np.log(1-a)\n",
    "    #store all layers As in one array \n",
    "    temp=0\n",
    "    for m in range(0,len(a)):\n",
    "        for n in range(0,len(a[0])):\n",
    "            A[i][temp]=a[m][n]\n",
    "            temp+=1\n",
    "    \n",
    "    #make output of each layer as input of another layer\n",
    "    x=a\n",
    "    \n",
    "    #Go outside the loop \n",
    "    if i==(len(dimensions)-1):\n",
    "        break\n",
    "        \n",
    "    #generate new thetas and biases for each layer\n",
    "    theta=(np.random.randn(dimensions[i+1]*dimensions[i])*0.1).reshape(dimensions[i+1],dimensions[i])\n",
    "    b=np.random.rand(dimensions[i+1]).reshape(dimensions[i+1],1) \n",
    "toc=time.time()\n",
    "print ((toc-tic)*1000,'nanoseconds')"
   ]
  },
  {
   "cell_type": "markdown",
   "metadata": {},
   "source": [
    "# Backword Propogation"
   ]
  },
  {
   "cell_type": "code",
   "execution_count": 1671,
   "metadata": {},
   "outputs": [],
   "source": [
    "da=-y/a+(1-y)/(1-a) \n",
    "for i in range (len(dimensions)-1,-1,-1):\n",
    "    a=np.trim_zeros(A[i])\n",
    "    a=a.reshape(int(shapes[i][0]),int(shapes[i][1]))\n",
    "    b=np.trim_zeros(A[i-1])\n",
    "    b=b.reshape(int(shapes[i-1][0]),int(shapes[i-1][1]))\n",
    "    z1=np.trim_zeros(Z[i])\n",
    "    z1=z1.reshape(int(shapes[i][0]),int(shapes[i][1]))\n",
    "    dz=da*(a*(1-a))\n",
    "    dw=np.dot(b.T,dz)\n",
    "    dw=np.mean(dw,axis=0)\n",
    "    db=np.mean(dz,axis=0)\n",
    "    w=np.trim_zeros(weights[i])\n",
    "    w=w.reshape(int(shapes_thetas[i][0]),int(shapes_thetas[i][1]))\n",
    "    bi=np.trim_zeros(bias[i])\n",
    "    bi=bi.reshape(int(shapes_bias[i][0]),int(shapes_bias[i][1]))\n",
    "    for j in range(0,len(w)):\n",
    "        w[j]=w[j]-0.021*dw[j]\n",
    "    for l in range(0,len(bi)):\n",
    "        bi[l]=bi[l]-0.021*db[l]   \n",
    "    da=np.dot(dz,w)"
   ]
  }
 ],
 "metadata": {
  "kernelspec": {
   "display_name": "Python 3",
   "language": "python",
   "name": "python3"
  },
  "language_info": {
   "codemirror_mode": {
    "name": "ipython",
    "version": 3
   },
   "file_extension": ".py",
   "mimetype": "text/x-python",
   "name": "python",
   "nbconvert_exporter": "python",
   "pygments_lexer": "ipython3",
   "version": "3.6.3"
  }
 },
 "nbformat": 4,
 "nbformat_minor": 2
}
