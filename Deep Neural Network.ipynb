{
 "cells": [
  {
   "cell_type": "code",
   "execution_count": 19,
   "metadata": {
    "collapsed": true
   },
   "outputs": [],
   "source": [
    "import numpy as np\n",
    "import time"
   ]
  },
  {
   "cell_type": "code",
   "execution_count": 20,
   "metadata": {},
   "outputs": [
    {
     "data": {
      "text/plain": [
       "array([[ 0.48184782,  0.75211441,  0.23196984],\n",
       "       [ 0.50403235,  0.64947605,  0.9736914 ],\n",
       "       [ 0.70243153,  0.92558508,  0.33306205],\n",
       "       [ 0.48825339,  0.19215434,  0.79800679]])"
      ]
     },
     "execution_count": 20,
     "metadata": {},
     "output_type": "execute_result"
    }
   ],
   "source": [
    "x=np.random.rand(12).reshape(4,3)\n",
    "x"
   ]
  },
  {
   "cell_type": "code",
   "execution_count": 21,
   "metadata": {
    "collapsed": true
   },
   "outputs": [],
   "source": [
    "y=np.random.randint(0,2,4).reshape(4,1)"
   ]
  },
  {
   "cell_type": "code",
   "execution_count": 22,
   "metadata": {},
   "outputs": [
    {
     "name": "stdout",
     "output_type": "stream",
     "text": [
      "[[ 0.10795465  0.13965683  0.04407013]\n",
      " [-0.00173114  0.08743362 -0.11453335]\n",
      " [ 0.059699   -0.07195711  0.11369114]\n",
      " [-0.05557881 -0.0143603   0.09909532]\n",
      " [-0.03857127 -0.12080806  0.00183641]]\n",
      "[[ 0.37263721]\n",
      " [ 0.17444318]\n",
      " [ 0.30661222]\n",
      " [ 0.51615102]\n",
      " [ 0.62645455]]\n"
     ]
    }
   ],
   "source": [
    "theta=(np.random.randn(15)*0.1).reshape(5,3)\n",
    "b=np.random.rand(5).reshape(5,1)\n",
    "print (theta)\n",
    "print (b)"
   ]
  },
  {
   "cell_type": "markdown",
   "metadata": {},
   "source": [
    "# Forward Propogation"
   ]
  },
  {
   "cell_type": "code",
   "execution_count": 23,
   "metadata": {},
   "outputs": [
    {
     "name": "stdout",
     "output_type": "stream",
     "text": [
      "1.0027885437011719 nanoseconds\n"
     ]
    }
   ],
   "source": [
    "#dimensions of each layer\n",
    "dimensions=np.array([5,4,3,2,1])\n",
    "\n",
    "#empty array of weights of all layers \n",
    "weights=np.zeros(len(dimensions)*(dimensions[0]**2)).reshape(len(dimensions),(dimensions[0]**2))\n",
    "\n",
    "#empty array of biases of all layers\n",
    "bias=np.zeros(len(dimensions)*dimensions[0]).reshape(len(dimensions),dimensions[0])\n",
    "\n",
    "#empty array of Zs of all layers\n",
    "Z=np.zeros(len(dimensions)*(dimensions[0]**2)).reshape(len(dimensions),(dimensions[0]**2))\n",
    "\n",
    "#empty array of as of all layers\n",
    "A=np.zeros(len(dimensions)*(dimensions[0]**2)).reshape(len(dimensions),dimensions[0]**2)\n",
    "\n",
    "#empty array for shapes of a\n",
    "shapes=np.zeros(10).reshape(5,2)\n",
    "\n",
    "#empty array for shapes of thetas\n",
    "shapes_thetas=np.zeros(10).reshape(5,2)\n",
    "\n",
    "#empty array for shapes of bias\n",
    "shapes_bias=np.zeros(10).reshape(5,2)\n",
    "\n",
    "tic=time.time()\n",
    "#loop for computation of z, a, theta and bias  of all layers expect input\n",
    "for i in range (0,len(dimensions)):\n",
    "    # array of z of each layer\n",
    "    z=np.zeros(dimensions[i]*len(x)).reshape(dimensions[i],len(x))\n",
    "    \n",
    "    \n",
    "    #print (theta.shape)\n",
    "    shapes_thetas[i]=theta.shape\n",
    "    \n",
    "    shapes_bias[i]=b.shape\n",
    "    #store all layer thetas in one array\n",
    "    k=0\n",
    "    for m in range(0,len(theta)):\n",
    "        for n in range(0,len(theta[0])):\n",
    "            weights[i][k]=theta[m][n]\n",
    "            k+=1\n",
    "    \n",
    "    #store all layer biases in one array        \n",
    "    c=0\n",
    "    for f in range(0,len(b)):\n",
    "        bias[i][c]=b[f][0]\n",
    "        c+=1\n",
    "    \n",
    "    #compute z of each layer\n",
    "    for j in range(0,len(theta)):\n",
    "        z[j]=np.dot(x,theta[j].T)+b[j]\n",
    "    z=z.T\n",
    "    #print (z.shape)\n",
    "    #store all layers Zs in one array\n",
    "    temp=0\n",
    "    for m in range(0,len(z)):\n",
    "        for n in range(0,len(z[0])):\n",
    "            Z[i][temp]=z[m][n]\n",
    "            temp+=1\n",
    "    \n",
    "    #compute a \n",
    "    a=1/(1+np.exp(-z))\n",
    "    shapes[i]=a.shape\n",
    "    if i==(len(dimensions)-1):\n",
    "        a=-y*np.log(a)+(1-y)*np.log(1-a)\n",
    "    #store all layers As in one array \n",
    "    temp=0\n",
    "    for m in range(0,len(a)):\n",
    "        for n in range(0,len(a[0])):\n",
    "            A[i][temp]=a[m][n]\n",
    "            temp+=1\n",
    "    \n",
    "    #make output of each layer as input of another layer\n",
    "    x=a\n",
    "    \n",
    "    #Go outside the loop \n",
    "    if i==(len(dimensions)-1):\n",
    "        break\n",
    "        \n",
    "    #generate new thetas and biases for each layer\n",
    "    theta=(np.random.randn(dimensions[i+1]*dimensions[i])*0.1).reshape(dimensions[i+1],dimensions[i])\n",
    "    b=np.random.rand(dimensions[i+1]).reshape(dimensions[i+1],1) \n",
    "toc=time.time()\n",
    "print ((toc-tic)*1000,'nanoseconds')"
   ]
  },
  {
   "cell_type": "markdown",
   "metadata": {},
   "source": [
    "# Backword Propogation"
   ]
  },
  {
   "cell_type": "code",
   "execution_count": 25,
   "metadata": {},
   "outputs": [
    {
     "ename": "ValueError",
     "evalue": "shapes (4,5) and (1,2) not aligned: 5 (dim 1) != 1 (dim 0)",
     "output_type": "error",
     "traceback": [
      "\u001b[1;31m---------------------------------------------------------------------------\u001b[0m",
      "\u001b[1;31mValueError\u001b[0m                                Traceback (most recent call last)",
      "\u001b[1;32m<ipython-input-25-2e00d80e7849>\u001b[0m in \u001b[0;36m<module>\u001b[1;34m()\u001b[0m\n\u001b[0;32m     19\u001b[0m     \u001b[1;32mfor\u001b[0m \u001b[0ml\u001b[0m \u001b[1;32min\u001b[0m \u001b[0mrange\u001b[0m\u001b[1;33m(\u001b[0m\u001b[1;36m0\u001b[0m\u001b[1;33m,\u001b[0m\u001b[0mlen\u001b[0m\u001b[1;33m(\u001b[0m\u001b[0mbi\u001b[0m\u001b[1;33m)\u001b[0m\u001b[1;33m)\u001b[0m\u001b[1;33m:\u001b[0m\u001b[1;33m\u001b[0m\u001b[0m\n\u001b[0;32m     20\u001b[0m         \u001b[0mbi\u001b[0m\u001b[1;33m[\u001b[0m\u001b[0ml\u001b[0m\u001b[1;33m]\u001b[0m\u001b[1;33m=\u001b[0m\u001b[0mbi\u001b[0m\u001b[1;33m[\u001b[0m\u001b[0ml\u001b[0m\u001b[1;33m]\u001b[0m\u001b[1;33m-\u001b[0m\u001b[1;36m0.021\u001b[0m\u001b[1;33m*\u001b[0m\u001b[0mdb\u001b[0m\u001b[1;33m[\u001b[0m\u001b[0ml\u001b[0m\u001b[1;33m]\u001b[0m\u001b[1;33m\u001b[0m\u001b[0m\n\u001b[1;32m---> 21\u001b[1;33m     \u001b[0mda\u001b[0m\u001b[1;33m=\u001b[0m\u001b[0mnp\u001b[0m\u001b[1;33m.\u001b[0m\u001b[0mdot\u001b[0m\u001b[1;33m(\u001b[0m\u001b[0mdz\u001b[0m\u001b[1;33m,\u001b[0m\u001b[0mw\u001b[0m\u001b[1;33m)\u001b[0m\u001b[1;33m\u001b[0m\u001b[0m\n\u001b[0m",
      "\u001b[1;31mValueError\u001b[0m: shapes (4,5) and (1,2) not aligned: 5 (dim 1) != 1 (dim 0)"
     ]
    }
   ],
   "source": [
    "da=a-y \n",
    "for i in range (len(dimensions)-1,-1,-1):\n",
    "    a=np.trim_zeros(A[i])\n",
    "    a=a.reshape(int(shapes[i][0]),int(shapes[i][1]))\n",
    "    b=np.trim_zeros(A[i-1])\n",
    "    b=b.reshape(int(shapes[i-1][0]),int(shapes[i-1][1]))\n",
    "    z1=np.trim_zeros(Z[i])\n",
    "    z1=z1.reshape(int(shapes[i][0]),int(shapes[i][1]))\n",
    "    dz=da*(a*(1-a))\n",
    "    dw=np.dot(b.T,dz)\n",
    "    dw=np.mean(dw,axis=0)\n",
    "    db=np.mean(dz,axis=0)\n",
    "    w=np.trim_zeros(weights[i])\n",
    "    w=w.reshape(int(shapes_thetas[i][0]),int(shapes_thetas[i][1]))\n",
    "    bi=np.trim_zeros(bias[i])\n",
    "    bi=bi.reshape(int(shapes_bias[i][0]),int(shapes_bias[i][1]))\n",
    "    for j in range(0,len(w)):\n",
    "        w[j]=w[j]-0.021*dw[j]\n",
    "    for l in range(0,len(bi)):\n",
    "        bi[l]=bi[l]-0.021*db[l]   \n",
    "    da=np.dot(dz,w)    "
   ]
  }
 ],
 "metadata": {
  "kernelspec": {
   "display_name": "Python 3",
   "language": "python",
   "name": "python3"
  },
  "language_info": {
   "codemirror_mode": {
    "name": "ipython",
    "version": 3
   },
   "file_extension": ".py",
   "mimetype": "text/x-python",
   "name": "python",
   "nbconvert_exporter": "python",
   "pygments_lexer": "ipython3",
   "version": "3.6.3"
  }
 },
 "nbformat": 4,
 "nbformat_minor": 2
}
