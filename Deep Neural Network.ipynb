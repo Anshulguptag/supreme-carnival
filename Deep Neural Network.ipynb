{
 "cells": [
  {
   "cell_type": "code",
   "execution_count": 460,
   "metadata": {
    "collapsed": true
   },
   "outputs": [],
   "source": [
    "import numpy as np\n",
    "import time"
   ]
  },
  {
   "cell_type": "code",
   "execution_count": 461,
   "metadata": {},
   "outputs": [
    {
     "data": {
      "text/plain": [
       "array([[ 0.65320766,  0.9249651 ,  0.03637637],\n",
       "       [ 0.18326438,  0.02751804,  0.77956715],\n",
       "       [ 0.43105095,  0.21254905,  0.68849988],\n",
       "       [ 0.28688938,  0.62282822,  0.30081932]])"
      ]
     },
     "execution_count": 461,
     "metadata": {},
     "output_type": "execute_result"
    }
   ],
   "source": [
    "x=np.random.rand(12).reshape(4,3)\n",
    "x"
   ]
  },
  {
   "cell_type": "code",
   "execution_count": 462,
   "metadata": {},
   "outputs": [
    {
     "name": "stdout",
     "output_type": "stream",
     "text": [
      "[[-0.00304631  0.13006276  0.11530479]\n",
      " [-0.10342723  0.00906805 -0.05504038]\n",
      " [ 0.0667158  -0.02951304  0.20235484]\n",
      " [-0.1097535  -0.04647094  0.0751252 ]\n",
      " [-0.07606797  0.10274504 -0.10120814]]\n",
      "[[ 0.60271253]\n",
      " [ 0.25904749]\n",
      " [ 0.83515589]\n",
      " [ 0.06903154]\n",
      " [ 0.81687367]]\n"
     ]
    }
   ],
   "source": [
    "theta=(np.random.randn(15)*0.1).reshape(5,3)\n",
    "b=np.random.rand(5).reshape(5,1)\n",
    "print (theta)\n",
    "print (b)"
   ]
  },
  {
   "cell_type": "code",
   "execution_count": 463,
   "metadata": {},
   "outputs": [
    {
     "name": "stdout",
     "output_type": "stream",
     "text": [
      "1.005411148071289 nanoseconds\n"
     ]
    }
   ],
   "source": [
    "#dimensions of each layer\n",
    "dimensions=np.array([5,4,3,2,1])\n",
    "\n",
    "#empty array of weights of all layers \n",
    "weights=np.zeros(len(dimensions)*25).reshape(len(dimensions),25)\n",
    "\n",
    "#empty array of biases of all layers\n",
    "bias=np.zeros(len(dimensions)*5).reshape(len(dimensions),5)\n",
    "\n",
    "#empty array of Zs of all layers\n",
    "Z=np.zeros(len(dimensions)*25).reshape(len(dimensions),25)\n",
    "\n",
    "#empty array of as of all layers\n",
    "A=np.zeros(len(dimensions)*25).reshape(len(dimensions),25)\n",
    "\n",
    "tic=time.time()\n",
    "#loop for computation of z, a, theta and bias  of all layers expect input\n",
    "for i in range (0,len(dimensions)):\n",
    "    # array of z of each layer\n",
    "    z=np.zeros(dimensions[i]*len(x)).reshape(dimensions[i],len(x))\n",
    "    \n",
    "    #print (z.shape)\n",
    "    #print (x.shape)\n",
    "    #print (theta.shape)\n",
    "    \n",
    "    #store all layer thetas in one array\n",
    "    k=0\n",
    "    for m in range(0,len(theta)):\n",
    "        for n in range(0,len(theta[0])):\n",
    "            weights[i][k]=theta[m][n]\n",
    "            k+=1\n",
    "    \n",
    "    #store all layer biases in one array        \n",
    "    c=0\n",
    "    for f in range(0,len(b)):\n",
    "        bias[i][c]=b[f][0]\n",
    "        c+=1\n",
    "    \n",
    "    #compute z of each layer\n",
    "    for j in range(0,len(theta)):\n",
    "        z[j]=np.dot(x,theta[j].T)+b[j]\n",
    "    z=z.T\n",
    "    \n",
    "    #store all layers Zs in one array\n",
    "    temp=0\n",
    "    for m in range(0,len(z)):\n",
    "        for n in range(0,len(z[0])):\n",
    "            Z[i][temp]=z[m][n]\n",
    "            temp+=1\n",
    "    \n",
    "    #compute a \n",
    "    a=1/(1+np.exp(-z))\n",
    "    \n",
    "    #store all layers As in one array \n",
    "    temp=0\n",
    "    for m in range(0,len(a)):\n",
    "        for n in range(0,len(a[0])):\n",
    "            A[i][temp]=a[m][n]\n",
    "            temp+=1\n",
    "    \n",
    "    #print (a)\n",
    "    \n",
    "    #make output of each layer as input of another layer\n",
    "    x=a\n",
    "    \n",
    "    #Go outside the loop \n",
    "    if i==(len(dimensions)-1):\n",
    "        break\n",
    "        \n",
    "    #generate new thetas and biases for each layer\n",
    "    theta=(np.random.randn(dimensions[i+1]*dimensions[i])*0.1).reshape(dimensions[i+1],dimensions[i])\n",
    "    b=np.random.rand(dimensions[i]).reshape(dimensions[i],1)\n",
    "toc=time.time()\n",
    "print ((toc-tic)*1000,'nanoseconds')"
   ]
  },
  {
   "cell_type": "code",
   "execution_count": null,
   "metadata": {
    "collapsed": true
   },
   "outputs": [],
   "source": []
  }
 ],
 "metadata": {
  "kernelspec": {
   "display_name": "Python 3",
   "language": "python",
   "name": "python3"
  },
  "language_info": {
   "codemirror_mode": {
    "name": "ipython",
    "version": 3
   },
   "file_extension": ".py",
   "mimetype": "text/x-python",
   "name": "python",
   "nbconvert_exporter": "python",
   "pygments_lexer": "ipython3",
   "version": "3.6.3"
  }
 },
 "nbformat": 4,
 "nbformat_minor": 2
}
