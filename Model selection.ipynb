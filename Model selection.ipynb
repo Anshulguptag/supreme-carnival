{
 "cells": [
  {
   "cell_type": "code",
   "execution_count": 58,
   "metadata": {
    "collapsed": true
   },
   "outputs": [],
   "source": [
    "import numpy as np\n",
    "import matplotlib.pyplot as plt\n",
    "from sklearn.model_selection import train_test_split"
   ]
  },
  {
   "cell_type": "code",
   "execution_count": 59,
   "metadata": {
    "collapsed": true
   },
   "outputs": [],
   "source": [
    "# x and y\n",
    "size=np.random.randint(1380,3000,10).reshape(10,1)\n",
    "price=np.random.randint(199,540,10).reshape(10,1)"
   ]
  },
  {
   "cell_type": "code",
   "execution_count": 60,
   "metadata": {
    "collapsed": true
   },
   "outputs": [],
   "source": [
    "# output y1_train, y1_cv, y1_test in 0,1\n",
    "mean=np.mean(price)\n",
    "y=(price>mean).astype(int)\n",
    "y1_train,y1_test=train_test_split(y, test_size=0.3, shuffle=False)\n",
    "y1_cv,y1_test=train_test_split(y1_test, test_size=0.2, shuffle=False)"
   ]
  },
  {
   "cell_type": "code",
   "execution_count": 61,
   "metadata": {
    "collapsed": true
   },
   "outputs": [],
   "source": [
    "#add extra column of 1's\n",
    "size=np.c_[np.ones(len(size)),size ]"
   ]
  },
  {
   "cell_type": "code",
   "execution_count": 62,
   "metadata": {
    "collapsed": true
   },
   "outputs": [],
   "source": [
    "X_train, X_test= train_test_split(size[:,: 2], test_size=0.3, shuffle=False)\n",
    "x1_cv,x1_test=train_test_split(X_test[:,: 2],test_size=0.5, shuffle=False)"
   ]
  },
  {
   "cell_type": "code",
   "execution_count": 63,
   "metadata": {
    "collapsed": true
   },
   "outputs": [],
   "source": [
    "#calculate hypothesis\n",
    "theta=np.random.rand(2)\n",
    "def hypo_calc(x,t):\n",
    "    z=np.dot(t,x.T)\n",
    "    hypo=1/(1+np.exp(-z))\n",
    "    return hypo"
   ]
  },
  {
   "cell_type": "code",
   "execution_count": 64,
   "metadata": {
    "collapsed": true
   },
   "outputs": [],
   "source": [
    "#calculate cost\n",
    "def cost_calc(x1,y1):\n",
    "    total=0\n",
    "    for i in range(0,len(x1)):\n",
    "        total=total+hypo_calc(x1[i],theta)-y[i] \n",
    "    return total  "
   ]
  },
  {
   "cell_type": "code",
   "execution_count": 65,
   "metadata": {},
   "outputs": [],
   "source": [
    "train_cost_calc=cost_calc(X_train,y1_train)**2/(2*len(X_train))\n",
    "test_cost_calc=cost_calc(x1_test,y1_test)**2/(2*len(x1_test))\n",
    "cv_cost_calc=cost_calc(x1_cv,y1_cv)**2/(2*len(x1_cv))"
   ]
  },
  {
   "cell_type": "code",
   "execution_count": 66,
   "metadata": {},
   "outputs": [
    {
     "data": {
      "text/plain": [
       "array([ 0.64285714])"
      ]
     },
     "execution_count": 66,
     "metadata": {},
     "output_type": "execute_result"
    }
   ],
   "source": [
    "train_cost_calc"
   ]
  },
  {
   "cell_type": "code",
   "execution_count": 67,
   "metadata": {},
   "outputs": [
    {
     "data": {
      "text/plain": [
       "array([ 0.25])"
      ]
     },
     "execution_count": 67,
     "metadata": {},
     "output_type": "execute_result"
    }
   ],
   "source": [
    "test_cost_calc"
   ]
  },
  {
   "cell_type": "code",
   "execution_count": 68,
   "metadata": {},
   "outputs": [
    {
     "data": {
      "text/plain": [
       "array([ 0.5])"
      ]
     },
     "execution_count": 68,
     "metadata": {},
     "output_type": "execute_result"
    }
   ],
   "source": [
    "cv_cost_calc"
   ]
  },
  {
   "cell_type": "code",
   "execution_count": null,
   "metadata": {
    "collapsed": true
   },
   "outputs": [],
   "source": []
  }
 ],
 "metadata": {
  "kernelspec": {
   "display_name": "Python 3",
   "language": "python",
   "name": "python3"
  },
  "language_info": {
   "codemirror_mode": {
    "name": "ipython",
    "version": 3
   },
   "file_extension": ".py",
   "mimetype": "text/x-python",
   "name": "python",
   "nbconvert_exporter": "python",
   "pygments_lexer": "ipython3",
   "version": "3.6.3"
  }
 },
 "nbformat": 4,
 "nbformat_minor": 2
}
