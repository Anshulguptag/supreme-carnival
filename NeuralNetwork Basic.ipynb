{
 "cells": [
  {
   "cell_type": "code",
   "execution_count": 107,
   "metadata": {
    "collapsed": true
   },
   "outputs": [],
   "source": [
    "#in this programme we consider \n",
    "#no. of samples = 5\n",
    "#no. of features in a input sample = 3 (with bias sample)\n",
    "#so no. of theta = 3 (with bias sample)\n",
    "#no.of hiden layer = 1\n",
    "#no. of units in hiden layer = 5"
   ]
  },
  {
   "cell_type": "code",
   "execution_count": 108,
   "metadata": {},
   "outputs": [],
   "source": [
    "import numpy as np\n",
    "import matplotlib.pyplot as plt"
   ]
  },
  {
   "cell_type": "code",
   "execution_count": 109,
   "metadata": {},
   "outputs": [
    {
     "data": {
      "text/plain": [
       "array([[  1.        ,  42.72381916,  42.1401051 ],\n",
       "       [  1.        ,  42.2332425 ,  31.611322  ],\n",
       "       [  1.        ,  33.80341731,  32.39672919],\n",
       "       [  1.        ,  37.54151832,  34.84067935],\n",
       "       [  1.        ,  48.90007228,  38.57038176]])"
      ]
     },
     "execution_count": 109,
     "metadata": {},
     "output_type": "execute_result"
    }
   ],
   "source": [
    "#as no. of samples = 5 and no. of features = 3\n",
    "#so matrix is 5 x 3\n",
    "x=(np.random.rand(10)*20 +30).reshape(5,2)\n",
    "x1=np.insert(x,0,1,axis=1)\n",
    "x1"
   ]
  },
  {
   "cell_type": "code",
   "execution_count": 110,
   "metadata": {},
   "outputs": [
    {
     "data": {
      "text/plain": [
       "array([[ 2.        ,  0.83436771,  0.97906736],\n",
       "       [ 2.        ,  0.03763588,  0.07188557],\n",
       "       [ 4.        ,  0.64255745,  0.11444495],\n",
       "       [ 4.        ,  0.77912655,  0.01545819],\n",
       "       [ 2.        ,  0.38518293,  0.42678995]])"
      ]
     },
     "execution_count": 110,
     "metadata": {},
     "output_type": "execute_result"
    }
   ],
   "source": [
    "#No. of units in hidden layer = 5\n",
    "#no. of features = 3 (with bias)\n",
    "#so matrix is 5 x 3\n",
    "theta=np.random.rand(10).reshape(5,2)\n",
    "theta1=np.random.randint(1,5,5).reshape(5,1)\n",
    "theta_values=(np.append(theta1,theta).reshape(3,5)).T\n",
    "theta_values"
   ]
  },
  {
   "cell_type": "code",
   "execution_count": 111,
   "metadata": {},
   "outputs": [
    {
     "data": {
      "text/plain": [
       "array([[ 78.90537657,  68.18766742,  61.92305999,  67.43480261,\n",
       "         80.56364317],\n",
       "       [  6.63721412,   5.86188325,   5.60107879,   5.91745027,\n",
       "          6.61305125],\n",
       "       [ 36.27523072,  34.75504097,  29.42827984,  32.10992227,\n",
       "         39.83529139],\n",
       "       [ 37.93867164,  37.39369436,  30.83793475,  33.78816754,\n",
       "         42.69557292],\n",
       "       [ 36.44145943,  31.75891881,  28.84709793,  31.33000402,\n",
       "         37.29692464]])"
      ]
     },
     "execution_count": 111,
     "metadata": {},
     "output_type": "execute_result"
    }
   ],
   "source": [
    "\n",
    "z=np.zeros((5,5))\n",
    "for i in range (0,len(theta_values)):\n",
    "    z[i]=np.dot(theta_values[i],x1.T)\n",
    "    \n",
    "z    "
   ]
  },
  {
   "cell_type": "code",
   "execution_count": 112,
   "metadata": {},
   "outputs": [
    {
     "data": {
      "text/plain": [
       "array([[ 1.        ,  1.        ,  1.        ,  1.        ,  1.        ],\n",
       "       [ 0.99867081,  0.99712356,  0.99627189,  0.99727826,  0.99863843],\n",
       "       [ 1.        ,  1.        ,  1.        ,  1.        ,  1.        ],\n",
       "       [ 1.        ,  1.        ,  1.        ,  1.        ,  1.        ],\n",
       "       [ 1.        ,  1.        ,  1.        ,  1.        ,  1.        ]])"
      ]
     },
     "execution_count": 112,
     "metadata": {},
     "output_type": "execute_result"
    }
   ],
   "source": [
    "#here we store values in corresponding units after passing sigmoid function\n",
    "def sigmoid(c):\n",
    "    exp=2.712\n",
    "    hypo=1/(1+exp**(-c))\n",
    "    return hypo\n",
    "\n",
    "a=np.zeros((5,5))\n",
    "for i in range(0,5):\n",
    "    a[i]=sigmoid(z[i])\n",
    "\n",
    "a"
   ]
  },
  {
   "cell_type": "code",
   "execution_count": 113,
   "metadata": {},
   "outputs": [
    {
     "data": {
      "text/plain": [
       "array([[ 0.98824089,  0.98812937,  0.98824089,  0.98824089,  0.98824089]])"
      ]
     },
     "execution_count": 113,
     "metadata": {},
     "output_type": "execute_result"
    }
   ],
   "source": [
    "#here we take units values as input values \n",
    "theta2=np.random.rand(6).reshape(1,6)\n",
    "theta2[0,0]=np.random.randint(1,6,1)\n",
    "theta2\n",
    "a1=np.insert(a,0,1,axis=1)\n",
    "d=np.dot(theta2,a1.T)\n",
    "output=sigmoid(d)\n",
    "output"
   ]
  },
  {
   "cell_type": "code",
   "execution_count": null,
   "metadata": {},
   "outputs": [],
   "source": []
  }
 ],
 "metadata": {
  "kernelspec": {
   "display_name": "Python 3",
   "language": "python",
   "name": "python3"
  },
  "language_info": {
   "codemirror_mode": {
    "name": "ipython",
    "version": 3
   },
   "file_extension": ".py",
   "mimetype": "text/x-python",
   "name": "python",
   "nbconvert_exporter": "python",
   "pygments_lexer": "ipython3",
   "version": "3.6.3"
  }
 },
 "nbformat": 4,
 "nbformat_minor": 2
}
