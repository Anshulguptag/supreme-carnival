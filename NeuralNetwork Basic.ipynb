{
 "cells": [
  {
   "cell_type": "code",
   "execution_count": 202,
   "metadata": {},
   "outputs": [],
   "source": [
    "import numpy as np\n",
    "import matplotlib.pyplot as plt"
   ]
  },
  {
   "cell_type": "code",
   "execution_count": 183,
   "metadata": {},
   "outputs": [
    {
     "data": {
      "text/plain": [
       "array([[  1.        ,  32.95320999,  43.39299715],\n",
       "       [  1.        ,  39.02187819,  38.15275972],\n",
       "       [  1.        ,  49.45461855,  30.76279317],\n",
       "       [  1.        ,  39.5130804 ,  31.4865306 ],\n",
       "       [  1.        ,  32.8709842 ,  38.28507687]])"
      ]
     },
     "execution_count": 183,
     "metadata": {},
     "output_type": "execute_result"
    }
   ],
   "source": [
    "x=(np.random.rand(10)*20 +30).reshape(5,2)\n",
    "x1=np.insert(x,0,1,axis=1)\n",
    "x1"
   ]
  },
  {
   "cell_type": "code",
   "execution_count": 185,
   "metadata": {},
   "outputs": [
    {
     "data": {
      "text/plain": [
       "array([[ 3.        ,  0.940712  ,  0.31766456],\n",
       "       [ 3.        ,  0.08536274,  0.50962695],\n",
       "       [ 3.        ,  0.37068197,  0.73030302],\n",
       "       [ 3.        ,  0.07304471,  0.21776495],\n",
       "       [ 2.        ,  0.15700282,  0.08219068]])"
      ]
     },
     "execution_count": 185,
     "metadata": {},
     "output_type": "execute_result"
    }
   ],
   "source": [
    "theta=np.random.rand(10).reshape(5,2)\n",
    "theta1=np.random.randint(1,5,5).reshape(5,1)\n",
    "theta_values=(np.append(theta1,theta).reshape(3,5)).T\n",
    "theta_values"
   ]
  },
  {
   "cell_type": "code",
   "execution_count": 254,
   "metadata": {},
   "outputs": [
    {
     "data": {
      "text/plain": [
       "array([[ 47.78389709,  51.82812837,  59.29480194,  50.17258347,\n",
       "         46.08394108],\n",
       "       [ 27.92721712,  25.77468902,  22.89913016,  22.41932935,\n",
       "         25.31706426],\n",
       "       [ 46.9051975 ,  45.32778219,  43.7980961 ,  40.64149476,  43.1443883 ],\n",
       "       [ 14.85653172,  14.15867576,  13.31145653,  12.7428844 ,\n",
       "         13.73819953],\n",
       "       [ 10.74024691,  11.26234625,  12.29292953,  10.79156447,\n",
       "         10.30751378]])"
      ]
     },
     "execution_count": 254,
     "metadata": {},
     "output_type": "execute_result"
    }
   ],
   "source": [
    "z=np.zeros((5,5))\n",
    "for i in range (0,len(theta_values)):\n",
    "    z[i]=np.dot(theta_values[i],x1.T)\n",
    "    \n",
    "z    "
   ]
  },
  {
   "cell_type": "code",
   "execution_count": 260,
   "metadata": {},
   "outputs": [
    {
     "data": {
      "text/plain": [
       "array([[ 1.        ,  1.        ,  1.        ,  1.        ,  1.        ],\n",
       "       [ 1.        ,  1.        ,  1.        ,  1.        ,  1.        ],\n",
       "       [ 1.        ,  1.        ,  1.        ,  1.        ,  1.        ],\n",
       "       [ 0.99999963,  0.99999927,  0.99999829,  0.99999699,  0.99999888],\n",
       "       [ 0.9999778 ,  0.99998681,  0.99999528,  0.99997891,  0.99996581]])"
      ]
     },
     "execution_count": 260,
     "metadata": {},
     "output_type": "execute_result"
    }
   ],
   "source": [
    "def predict(z):\n",
    "    exp=2.712\n",
    "    hypo=1/(1+exp**(-z))\n",
    "    return hypo\n",
    "\n",
    "a=np.zeros((5,5))\n",
    "for i in range(0,5):\n",
    "    a[i]=predict(z[i])\n",
    "a  "
   ]
  }
 ],
 "metadata": {
  "kernelspec": {
   "display_name": "Python 3",
   "language": "python",
   "name": "python3"
  },
  "language_info": {
   "codemirror_mode": {
    "name": "ipython",
    "version": 3
   },
   "file_extension": ".py",
   "mimetype": "text/x-python",
   "name": "python",
   "nbconvert_exporter": "python",
   "pygments_lexer": "ipython3",
   "version": "3.6.3"
  }
 },
 "nbformat": 4,
 "nbformat_minor": 2
}
