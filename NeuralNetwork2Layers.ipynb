{
 "cells": [
  {
   "cell_type": "code",
   "execution_count": 549,
   "metadata": {
    "collapsed": true
   },
   "outputs": [],
   "source": [
    "import numpy as np"
   ]
  },
  {
   "cell_type": "code",
   "execution_count": 550,
   "metadata": {},
   "outputs": [
    {
     "data": {
      "text/plain": [
       "array([[  1.        ,  88.82367228,  21.90622792]])"
      ]
     },
     "execution_count": 550,
     "metadata": {},
     "output_type": "execute_result"
    }
   ],
   "source": [
    "#taking input values\n",
    "x=(np.random.rand(2)*120-30).reshape(2,1)\n",
    "x_values=(np.insert(x,0,1,axis=0)).T\n",
    "x_values"
   ]
  },
  {
   "cell_type": "code",
   "execution_count": 551,
   "metadata": {},
   "outputs": [
    {
     "data": {
      "text/plain": [
       "array([[ 1.        ,  0.38000917,  0.41105386],\n",
       "       [ 3.        ,  0.87792423,  0.46239194],\n",
       "       [ 3.        ,  0.08569215,  0.63666238],\n",
       "       [ 2.        ,  0.87846918,  0.05636336],\n",
       "       [ 1.        ,  0.45627861,  0.43863755]])"
      ]
     },
     "execution_count": 551,
     "metadata": {},
     "output_type": "execute_result"
    }
   ],
   "source": [
    "#Generate Theta values of layer 0\n",
    "theta=np.random.rand(10).reshape(5,2)\n",
    "theta0=np.random.randint(1,5,5)\n",
    "theta_dummy=np.append(theta0,theta)\n",
    "theta_values=(theta_dummy.reshape(3,5)).T\n",
    "theta_values"
   ]
  },
  {
   "cell_type": "code",
   "execution_count": 552,
   "metadata": {
    "collapsed": true
   },
   "outputs": [],
   "source": [
    "#Calculating z for each unit in layer 1\n",
    "z=np.zeros((5,1))\n",
    "for i in range (0,5):\n",
    "    z[i]=np.dot(theta_values[i],x_values.T)    "
   ]
  },
  {
   "cell_type": "code",
   "execution_count": 553,
   "metadata": {
    "collapsed": true
   },
   "outputs": [],
   "source": [
    "#calculating a(i)=g(z(i))\n",
    "#g(z(i))=1/(1+e**(-z(i)))\n",
    "\n",
    "def sigmoid(c):\n",
    "    exp=2.712\n",
    "    hypo=1/(1+exp**(-c))\n",
    "    return hypo"
   ]
  },
  {
   "cell_type": "code",
   "execution_count": 554,
   "metadata": {},
   "outputs": [
    {
     "data": {
      "text/plain": [
       "array([[ 1.],\n",
       "       [ 1.],\n",
       "       [ 1.],\n",
       "       [ 1.],\n",
       "       [ 1.]])"
      ]
     },
     "execution_count": 554,
     "metadata": {},
     "output_type": "execute_result"
    }
   ],
   "source": [
    "#find units of firthlayer\n",
    "a1=np.zeros((5,1))\n",
    "for i in range (0,5):\n",
    "    a1[i]=sigmoid(z[i])\n",
    "a1"
   ]
  },
  {
   "cell_type": "code",
   "execution_count": 555,
   "metadata": {},
   "outputs": [
    {
     "data": {
      "text/plain": [
       "array([[ 1.,  1.,  1.,  1.,  1.,  1.]])"
      ]
     },
     "execution_count": 555,
     "metadata": {},
     "output_type": "execute_result"
    }
   ],
   "source": [
    "#now calculate layer 2 units\n",
    "#first we add bias term in each \n",
    "a1=a1.T\n",
    "#there are 5 units in second layer or in a1 layer with 1 samples\n",
    "a1=np.insert(a1,0,1,axis=1)\n",
    "a1"
   ]
  },
  {
   "cell_type": "code",
   "execution_count": 556,
   "metadata": {},
   "outputs": [
    {
     "data": {
      "text/plain": [
       "array([[ 1.        ,  0.99307578,  0.07613663,  0.5730271 ,  0.46588101,\n",
       "         0.31946496],\n",
       "       [ 1.        ,  0.53423655,  0.95732873,  0.75724531,  0.55478869,\n",
       "         0.62156356],\n",
       "       [ 1.        ,  0.4526219 ,  0.59179085,  0.60061352,  0.00799445,\n",
       "         0.09953078],\n",
       "       [ 1.        ,  0.03678795,  0.93418452,  0.34361454,  0.88851694,\n",
       "         0.05533116],\n",
       "       [ 1.        ,  0.18782136,  0.4482083 ,  0.83289704,  0.0428538 ,\n",
       "         0.50827774]])"
      ]
     },
     "execution_count": 556,
     "metadata": {},
     "output_type": "execute_result"
    }
   ],
   "source": [
    "#generate theta values of layer 1\n",
    "theta_1=np.random.rand(25).reshape(5,5)\n",
    "theta_1=np.insert(theta_1,0,1,axis=1)\n",
    "theta_1"
   ]
  },
  {
   "cell_type": "code",
   "execution_count": 557,
   "metadata": {},
   "outputs": [],
   "source": [
    "#Generate theta for layer 1\n",
    "z1=np.zeros((5,1))\n",
    "for i in range (0,5):\n",
    "        z1[i]=np.dot(theta_1[i],a1.T)"
   ]
  },
  {
   "cell_type": "code",
   "execution_count": 558,
   "metadata": {},
   "outputs": [
    {
     "data": {
      "text/plain": [
       "array([[ 0.9683132 ],\n",
       "       [ 0.98804909],\n",
       "       [ 0.93969742],\n",
       "       [ 0.96270531],\n",
       "       [ 0.95316115]])"
      ]
     },
     "execution_count": 558,
     "metadata": {},
     "output_type": "execute_result"
    }
   ],
   "source": [
    "a2=np.zeros((5,1))\n",
    "for i in range(0,5):\n",
    "    a2[i]=sigmoid(z1[i])\n",
    "a2    "
   ]
  },
  {
   "cell_type": "code",
   "execution_count": 559,
   "metadata": {},
   "outputs": [
    {
     "data": {
      "text/plain": [
       "array([[ 1.        ,  0.9683132 ,  0.98804909,  0.93969742,  0.96270531,\n",
       "         0.95316115]])"
      ]
     },
     "execution_count": 559,
     "metadata": {},
     "output_type": "execute_result"
    }
   ],
   "source": [
    "a2=a2.T\n",
    "a2=np.insert(a2,0,1,axis=1)\n",
    "a2"
   ]
  },
  {
   "cell_type": "code",
   "execution_count": 560,
   "metadata": {},
   "outputs": [
    {
     "data": {
      "text/plain": [
       "array([[ 1.        ,  0.07545594,  0.28593031,  0.40814673,  0.47101942,\n",
       "         0.73648688],\n",
       "       [ 1.        ,  0.70924018,  0.88401602,  0.28356409,  0.47378071,\n",
       "         0.21017832],\n",
       "       [ 1.        ,  0.63712661,  0.47733057,  0.54085995,  0.14622719,\n",
       "         0.16441908],\n",
       "       [ 1.        ,  0.35230486,  0.54361616,  0.89348074,  0.06727293,\n",
       "         0.95437805]])"
      ]
     },
     "execution_count": 560,
     "metadata": {},
     "output_type": "execute_result"
    }
   ],
   "source": [
    "#generate theta values of layer 1\n",
    "theta_2=np.random.rand(20).reshape(4,5)\n",
    "theta_2=np.insert(theta_2,0,1,axis=1)\n",
    "theta_2"
   ]
  },
  {
   "cell_type": "code",
   "execution_count": 561,
   "metadata": {},
   "outputs": [],
   "source": [
    "z2=np.zeros((4,1))\n",
    "for i in range (0,4):\n",
    "        z2[i]=np.dot(theta_2[i],a2.T)"
   ]
  },
  {
   "cell_type": "code",
   "execution_count": 562,
   "metadata": {},
   "outputs": [
    {
     "data": {
      "text/plain": [
       "array([[1],\n",
       "       [1],\n",
       "       [1],\n",
       "       [1]])"
      ]
     },
     "execution_count": 562,
     "metadata": {},
     "output_type": "execute_result"
    }
   ],
   "source": [
    "a3=np.zeros((4,1))\n",
    "for i in range(0,4):\n",
    "    a3[i]=sigmoid(z2[i])\n",
    "a3=a3>0.5\n",
    "a3.astype(int)"
   ]
  },
  {
   "cell_type": "code",
   "execution_count": null,
   "metadata": {
    "collapsed": true
   },
   "outputs": [],
   "source": []
  }
 ],
 "metadata": {
  "kernelspec": {
   "display_name": "Python 3",
   "language": "python",
   "name": "python3"
  },
  "language_info": {
   "codemirror_mode": {
    "name": "ipython",
    "version": 3
   },
   "file_extension": ".py",
   "mimetype": "text/x-python",
   "name": "python",
   "nbconvert_exporter": "python",
   "pygments_lexer": "ipython3",
   "version": "3.6.3"
  }
 },
 "nbformat": 4,
 "nbformat_minor": 2
}
