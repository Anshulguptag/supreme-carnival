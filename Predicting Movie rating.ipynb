{
 "cells": [
  {
   "cell_type": "code",
   "execution_count": 256,
   "metadata": {
    "collapsed": true
   },
   "outputs": [],
   "source": [
    "import numpy as np"
   ]
  },
  {
   "cell_type": "code",
   "execution_count": 257,
   "metadata": {},
   "outputs": [
    {
     "data": {
      "text/plain": [
       "array([[ 1.  ,  0.9 ,  0.  ],\n",
       "       [ 1.  ,  1.  ,  0.01],\n",
       "       [ 1.  ,  0.99,  0.  ],\n",
       "       [ 1.  ,  0.1 ,  1.  ],\n",
       "       [ 1.  ,  0.  ,  0.9 ]])"
      ]
     },
     "execution_count": 257,
     "metadata": {},
     "output_type": "execute_result"
    }
   ],
   "source": [
    "x=np.array([0.9,0,1.0,0.01,0.99,0,0.1,1.0,0,0.9]).reshape(5,2)\n",
    "x=np.c_[np.ones(5),x]\n",
    "x"
   ]
  },
  {
   "cell_type": "code",
   "execution_count": 258,
   "metadata": {},
   "outputs": [
    {
     "data": {
      "text/plain": [
       "array([[0, 4, 1, 7],\n",
       "       [3, 2, 5, 9],\n",
       "       [1, 8, 2, 8],\n",
       "       [4, 8, 8, 2],\n",
       "       [8, 2, 8, 9]])"
      ]
     },
     "execution_count": 258,
     "metadata": {},
     "output_type": "execute_result"
    }
   ],
   "source": [
    "y=np.random.randint(0,10,20).reshape(5,4)\n",
    "y"
   ]
  },
  {
   "cell_type": "code",
   "execution_count": 259,
   "metadata": {},
   "outputs": [
    {
     "data": {
      "text/plain": [
       "array([[3, 0, 1],\n",
       "       [1, 0, 4],\n",
       "       [2, 1, 5],\n",
       "       [0, 3, 1]])"
      ]
     },
     "execution_count": 259,
     "metadata": {},
     "output_type": "execute_result"
    }
   ],
   "source": [
    "theta=np.random.randint(0,6,12).reshape(4,3)\n",
    "theta"
   ]
  },
  {
   "cell_type": "code",
   "execution_count": 260,
   "metadata": {},
   "outputs": [
    {
     "data": {
      "text/plain": [
       "array([[ 3.  ,  1.  ,  2.9 ,  2.7 ],\n",
       "       [ 3.01,  1.04,  3.05,  3.01],\n",
       "       [ 3.  ,  1.  ,  2.99,  2.97],\n",
       "       [ 4.  ,  5.  ,  7.1 ,  1.3 ],\n",
       "       [ 3.9 ,  4.6 ,  6.5 ,  0.9 ]])"
      ]
     },
     "execution_count": 260,
     "metadata": {},
     "output_type": "execute_result"
    }
   ],
   "source": [
    "c=np.zeros(25).reshape(5,5)\n",
    "for i in range(0,len(theta)):\n",
    "    for j in range(0,len(x)):\n",
    "        c[i][j]=np.dot(theta[i].T,x[j])\n",
    "c=np.delete(c.T,4,1)  \n",
    "c"
   ]
  },
  {
   "cell_type": "code",
   "execution_count": 261,
   "metadata": {},
   "outputs": [],
   "source": [
    "def cost_calc(c,y):\n",
    "    total1=np.zeros(4)\n",
    "    total2=np.zeros(4)\n",
    "    for i in range(0,len(theta)):\n",
    "        total=0\n",
    "        for j in range(0,len(c[0])):\n",
    "            total=total+(c[i][j]-y[i][j])**2\n",
    "        total1[i]=total\n",
    "    for i in range(0,len(theta)):\n",
    "        total=0\n",
    "        for j in range(0,len(theta[0])):\n",
    "            total=total+theta[i][j]**2\n",
    "        total2[i]=total\n",
    "    return total1,total2    "
   ]
  },
  {
   "cell_type": "code",
   "execution_count": 262,
   "metadata": {},
   "outputs": [
    {
     "data": {
      "text/plain": [
       "array([[ 20.55   ],\n",
       "       [ 21.15215],\n",
       "       [ 41.1405 ],\n",
       "       [  5.65   ]])"
      ]
     },
     "execution_count": 262,
     "metadata": {},
     "output_type": "execute_result"
    }
   ],
   "source": [
    "first,second=cost_calc(c,y)\n",
    "Jtheta=first/2+(0.1/2)*second\n",
    "Jtheta.reshape(4,1)"
   ]
  },
  {
   "cell_type": "code",
   "execution_count": 263,
   "metadata": {},
   "outputs": [],
   "source": [
    "def gradient_descent():\n",
    "    for m in range(0,3):  \n",
    "        for i in range(0,len(theta)):\n",
    "            total=0\n",
    "            if m==0:\n",
    "                for j in range(0,len(c[0])):\n",
    "                    total=total+((c[i][j]-y[i][j])**2)*x[i][0]\n",
    "                theta[i][0]=theta[i][0]-0.01*total\n",
    "            else:\n",
    "                total2=0\n",
    "                for j in range(1,3):\n",
    "                    total2=total2+((c[i][j]-y[i][j])**2)*x[i][j]\n",
    "                theta[i][m]=(1-0.01*0.1)*theta[i][m]-0.01*total2\n",
    "    return theta    "
   ]
  },
  {
   "cell_type": "code",
   "execution_count": 264,
   "metadata": {},
   "outputs": [
    {
     "data": {
      "text/plain": [
       "array([[2, 0, 0],\n",
       "       [0, 0, 3],\n",
       "       [1, 0, 4],\n",
       "       [0, 2, 0]])"
      ]
     },
     "execution_count": 264,
     "metadata": {},
     "output_type": "execute_result"
    }
   ],
   "source": [
    "t=gradient_descent()\n",
    "t"
   ]
  }
 ],
 "metadata": {
  "kernelspec": {
   "display_name": "Python 3",
   "language": "python",
   "name": "python3"
  },
  "language_info": {
   "codemirror_mode": {
    "name": "ipython",
    "version": 3
   },
   "file_extension": ".py",
   "mimetype": "text/x-python",
   "name": "python",
   "nbconvert_exporter": "python",
   "pygments_lexer": "ipython3",
   "version": "3.6.3"
  }
 },
 "nbformat": 4,
 "nbformat_minor": 2
}
