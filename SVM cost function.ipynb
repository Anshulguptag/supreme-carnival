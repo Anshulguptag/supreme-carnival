{
 "cells": [
  {
   "cell_type": "code",
   "execution_count": 45,
   "metadata": {
    "collapsed": true
   },
   "outputs": [],
   "source": [
    "import numpy as np\n",
    "import matplotlib.pyplot as plt"
   ]
  },
  {
   "cell_type": "code",
   "execution_count": 46,
   "metadata": {},
   "outputs": [
    {
     "data": {
      "text/plain": [
       "array([[ 0.44320624,  0.64447886,  0.26628009,  0.86687952],\n",
       "       [ 0.73593899,  0.6209817 ,  0.68824834,  0.76976352],\n",
       "       [ 0.41712041,  0.31491076,  0.62387285,  0.50365206],\n",
       "       [ 0.82708318,  0.11232087,  0.25043207,  0.84544072],\n",
       "       [ 0.52699791,  0.19647324,  0.51119023,  0.85350066]])"
      ]
     },
     "execution_count": 46,
     "metadata": {},
     "output_type": "execute_result"
    }
   ],
   "source": [
    "x=np.random.rand(20).reshape(5,4)\n",
    "x"
   ]
  },
  {
   "cell_type": "code",
   "execution_count": 47,
   "metadata": {},
   "outputs": [
    {
     "data": {
      "text/plain": [
       "array([ 1.        ,  0.39978478,  0.58994537,  0.60263681])"
      ]
     },
     "execution_count": 47,
     "metadata": {},
     "output_type": "execute_result"
    }
   ],
   "source": [
    "theta=np.random.rand(3)\n",
    "theta=np.insert(theta,0,1)\n",
    "theta"
   ]
  },
  {
   "cell_type": "code",
   "execution_count": 48,
   "metadata": {},
   "outputs": [
    {
     "data": {
      "text/plain": [
       "array([[0],\n",
       "       [0],\n",
       "       [1],\n",
       "       [0],\n",
       "       [1]])"
      ]
     },
     "execution_count": 48,
     "metadata": {},
     "output_type": "execute_result"
    }
   ],
   "source": [
    "y=np.random.randint(0,2,5).reshape(5,1)\n",
    "y"
   ]
  },
  {
   "cell_type": "code",
   "execution_count": 49,
   "metadata": {
    "collapsed": true
   },
   "outputs": [],
   "source": [
    "def calc_hypo(x,t):\n",
    "    z=np.dot(t,x.T)\n",
    "    hypo=1/(1+np.exp(-z))\n",
    "    return hypo"
   ]
  },
  {
   "cell_type": "code",
   "execution_count": 50,
   "metadata": {
    "collapsed": true
   },
   "outputs": [],
   "source": [
    "def svm_cost(x1,t1,y):\n",
    "    total=0\n",
    "    total2=0\n",
    "    for i in range(0,len(x1)):\n",
    "        total=total+(y[i]*calc_hypo(x1[i],t1)+(1-y[i])*(1-(calc_hypo(x[i],t1))))\n",
    "    for j in range(0,len(t1)):\n",
    "        total2=total2+t1[j]**2\n",
    "        \n",
    "    return total,total2    "
   ]
  },
  {
   "cell_type": "code",
   "execution_count": 51,
   "metadata": {},
   "outputs": [
    {
     "data": {
      "text/plain": [
       "array([ 5103.28545807])"
      ]
     },
     "execution_count": 51,
     "metadata": {},
     "output_type": "execute_result"
    }
   ],
   "source": [
    "cost,regularize=svm_cost(x,theta,y)\n",
    "C=np.random.randint(1000,10000,1)\n",
    "JTheta=C*cost+(1/2)*regularize\n",
    "JTheta"
   ]
  },
  {
   "cell_type": "code",
   "execution_count": 55,
   "metadata": {},
   "outputs": [
    {
     "data": {
      "image/png": "[encoded data removed]",
      "text/plain": [
       "<matplotlib.figure.Figure at 0x20345205358>"
      ]
     },
     "metadata": {},
     "output_type": "display_data"
    }
   ],
   "source": [
    "cost1=-calc_hypo(x,theta)\n",
    "z1=np.dot(theta,x.T)\n",
    "plt.plot(z1,cost1,marker='x',linestyle=' ')\n",
    "plt.show()"
   ]
  }
 ],
 "metadata": {
  "kernelspec": {
   "display_name": "Python 3",
   "language": "python",
   "name": "python3"
  },
  "language_info": {
   "codemirror_mode": {
    "name": "ipython",
    "version": 3
   },
   "file_extension": ".py",
   "mimetype": "text/x-python",
   "name": "python",
   "nbconvert_exporter": "python",
   "pygments_lexer": "ipython3",
   "version": "3.6.3"
  }
 },
 "nbformat": 4,
 "nbformat_minor": 2
}
