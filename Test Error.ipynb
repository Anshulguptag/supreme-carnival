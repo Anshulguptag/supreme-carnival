{
 "cells": [
  {
   "cell_type": "code",
   "execution_count": 732,
   "metadata": {
    "collapsed": true
   },
   "outputs": [],
   "source": [
    "import numpy as np\n",
    "import matplotlib.pyplot as plt\n",
    "from sklearn.model_selection import train_test_split"
   ]
  },
  {
   "cell_type": "code",
   "execution_count": 733,
   "metadata": {},
   "outputs": [
    {
     "data": {
      "text/plain": [
       "array([[1997],\n",
       "       [1836],\n",
       "       [1799],\n",
       "       [2699],\n",
       "       [1466],\n",
       "       [1809],\n",
       "       [1569],\n",
       "       [2124],\n",
       "       [2521],\n",
       "       [2703]])"
      ]
     },
     "execution_count": 733,
     "metadata": {},
     "output_type": "execute_result"
    }
   ],
   "source": [
    "#x of a dataset\n",
    "size=np.random.randint(1380,3000,10).reshape(10,1)\n",
    "size"
   ]
  },
  {
   "cell_type": "code",
   "execution_count": 734,
   "metadata": {},
   "outputs": [
    {
     "data": {
      "text/plain": [
       "array([[209],\n",
       "       [466],\n",
       "       [254],\n",
       "       [489],\n",
       "       [273],\n",
       "       [252],\n",
       "       [405],\n",
       "       [268],\n",
       "       [486],\n",
       "       [360]])"
      ]
     },
     "execution_count": 734,
     "metadata": {},
     "output_type": "execute_result"
    }
   ],
   "source": [
    "#y of a dataset\n",
    "price=np.random.randint(199,540,10).reshape(10,1)\n",
    "price"
   ]
  },
  {
   "cell_type": "code",
   "execution_count": 735,
   "metadata": {
    "collapsed": true
   },
   "outputs": [],
   "source": [
    "#convert y into 0,1 and split into train and test\n",
    "mean=np.mean(price)\n",
    "y=(price>mean).astype(int)\n",
    "y1_train,y1_test=train_test_split(y, test_size=0.3, shuffle=False)"
   ]
  },
  {
   "cell_type": "code",
   "execution_count": 736,
   "metadata": {},
   "outputs": [
    {
     "data": {
      "text/plain": [
       "array([[  1.00000000e+00,   1.99700000e+03,   2.09000000e+02],\n",
       "       [  1.00000000e+00,   1.83600000e+03,   4.66000000e+02],\n",
       "       [  1.00000000e+00,   1.79900000e+03,   2.54000000e+02],\n",
       "       [  1.00000000e+00,   2.69900000e+03,   4.89000000e+02],\n",
       "       [  1.00000000e+00,   1.46600000e+03,   2.73000000e+02],\n",
       "       [  1.00000000e+00,   1.80900000e+03,   2.52000000e+02],\n",
       "       [  1.00000000e+00,   1.56900000e+03,   4.05000000e+02],\n",
       "       [  1.00000000e+00,   2.12400000e+03,   2.68000000e+02],\n",
       "       [  1.00000000e+00,   2.52100000e+03,   4.86000000e+02],\n",
       "       [  1.00000000e+00,   2.70300000e+03,   3.60000000e+02]])"
      ]
     },
     "execution_count": 736,
     "metadata": {},
     "output_type": "execute_result"
    }
   ],
   "source": [
    "X=np.concatenate([size,price],axis=1)\n",
    "X=np.c_[np.ones(len(X)),X ]\n",
    "X"
   ]
  },
  {
   "cell_type": "code",
   "execution_count": 737,
   "metadata": {},
   "outputs": [
    {
     "data": {
      "text/plain": [
       "(array([[  1.00000000e+00,   1.99700000e+03],\n",
       "        [  1.00000000e+00,   1.83600000e+03],\n",
       "        [  1.00000000e+00,   1.79900000e+03],\n",
       "        [  1.00000000e+00,   2.69900000e+03],\n",
       "        [  1.00000000e+00,   1.46600000e+03],\n",
       "        [  1.00000000e+00,   1.80900000e+03],\n",
       "        [  1.00000000e+00,   1.56900000e+03]]),\n",
       " array([[  1.00000000e+00,   2.12400000e+03],\n",
       "        [  1.00000000e+00,   2.52100000e+03],\n",
       "        [  1.00000000e+00,   2.70300000e+03]]))"
      ]
     },
     "execution_count": 737,
     "metadata": {},
     "output_type": "execute_result"
    }
   ],
   "source": [
    "#split x into train and test\n",
    "X_train, X_test, y_train, y_test = train_test_split(X[:,: 2], X[:,2], test_size=0.3, shuffle=False)\n",
    "X_train.reshape(7,2),X_test.reshape(3,2)"
   ]
  },
  {
   "cell_type": "code",
   "execution_count": 738,
   "metadata": {
    "collapsed": true
   },
   "outputs": [],
   "source": [
    "#calculate hypothesis\n",
    "def hypo_calc(x,t):\n",
    "    z=np.dot(t,x.T)\n",
    "    hypo=1/(1+np.exp(-z))\n",
    "    return hypo"
   ]
  },
  {
   "cell_type": "code",
   "execution_count": 739,
   "metadata": {
    "collapsed": true
   },
   "outputs": [],
   "source": [
    "#calculate error(h(x),y)\n",
    "#if h(x)>=0.5 and y=0 or h(x)<0.5 and y=1\n",
    "#   than error value =1\n",
    "# otherwise error value=0\n",
    "def error(x_1,y_1):\n",
    "    if((x_1>=0.5 and y_1==0) | (x_1<0.5 and y_1==1)):\n",
    "        e=1\n",
    "    else:\n",
    "        e=0\n",
    "    print (e)    \n",
    "    return e    "
   ]
  },
  {
   "cell_type": "code",
   "execution_count": 740,
   "metadata": {
    "collapsed": true
   },
   "outputs": [],
   "source": [
    "#calculate sigma values\n",
    "theta=np.random.rand(2)\n",
    "def test_error_calc(x1,y1):\n",
    "    total=0\n",
    "    for i in range(0,len(x1)):\n",
    "        total=total+error(hypo_calc(x1[i],theta),y[i]) \n",
    "    return total  "
   ]
  },
  {
   "cell_type": "code",
   "execution_count": 741,
   "metadata": {},
   "outputs": [
    {
     "name": "stdout",
     "output_type": "stream",
     "text": [
      "1\n",
      "0\n",
      "1\n"
     ]
    },
    {
     "data": {
      "text/plain": [
       "0.6666666666666666"
      ]
     },
     "execution_count": 741,
     "metadata": {},
     "output_type": "execute_result"
    }
   ],
   "source": [
    "#find test error\n",
    "test_error=test_error_calc(X_test,y1_test)/(len(X_test))\n",
    "test_error"
   ]
  },
  {
   "cell_type": "code",
   "execution_count": 742,
   "metadata": {
    "collapsed": true
   },
   "outputs": [],
   "source": [
    "def cost_calc(x1,y1):\n",
    "    total=0\n",
    "    for i in range(0,len(x1)):\n",
    "        total=total+hypo_calc(x1[i],theta)-y[i] \n",
    "    return total  "
   ]
  },
  {
   "cell_type": "code",
   "execution_count": 743,
   "metadata": {},
   "outputs": [
    {
     "data": {
      "text/plain": [
       "array([ 0.66666667])"
      ]
     },
     "execution_count": 743,
     "metadata": {},
     "output_type": "execute_result"
    }
   ],
   "source": [
    "test_cost_calc=cost_calc(X_test,y1_test)**2/(2*len(X_test))\n",
    "test_cost_calc"
   ]
  }
 ],
 "metadata": {
  "kernelspec": {
   "display_name": "Python 3",
   "language": "python",
   "name": "python3"
  },
  "language_info": {
   "codemirror_mode": {
    "name": "ipython",
    "version": 3
   },
   "file_extension": ".py",
   "mimetype": "text/x-python",
   "name": "python",
   "nbconvert_exporter": "python",
   "pygments_lexer": "ipython3",
   "version": "3.6.3"
  }
 },
 "nbformat": 4,
 "nbformat_minor": 2
}
