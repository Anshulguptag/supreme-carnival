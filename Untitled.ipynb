{
 "cells": [
  {
   "cell_type": "code",
   "execution_count": 34,
   "metadata": {
    "collapsed": true
   },
   "outputs": [],
   "source": [
    "import numpy as np\n",
    "import matplotlib.pyplot as plt"
   ]
  },
  {
   "cell_type": "code",
   "execution_count": 35,
   "metadata": {},
   "outputs": [
    {
     "data": {
      "text/plain": [
       "array([[ 0.80487715,  0.354568  ],\n",
       "       [ 0.12111766,  0.26610828],\n",
       "       [ 0.46644877,  0.87337563],\n",
       "       [ 0.59519533,  0.77085797],\n",
       "       [ 0.47586349,  0.53222913],\n",
       "       [ 0.74680655,  0.72779598],\n",
       "       [ 0.28546328,  0.51394074],\n",
       "       [ 0.90156809,  0.38336552],\n",
       "       [ 0.41589434,  0.15066966],\n",
       "       [ 0.35875943,  0.05137558]])"
      ]
     },
     "execution_count": 35,
     "metadata": {},
     "output_type": "execute_result"
    }
   ],
   "source": [
    "x=np.random.rand(20).reshape(10,2)\n",
    "x"
   ]
  },
  {
   "cell_type": "code",
   "execution_count": 36,
   "metadata": {},
   "outputs": [
    {
     "data": {
      "text/plain": [
       "array([[ 1.        ,  0.80487715,  0.354568  ],\n",
       "       [ 1.        ,  0.12111766,  0.26610828],\n",
       "       [ 1.        ,  0.46644877,  0.87337563],\n",
       "       [ 1.        ,  0.59519533,  0.77085797],\n",
       "       [ 1.        ,  0.47586349,  0.53222913],\n",
       "       [ 1.        ,  0.74680655,  0.72779598],\n",
       "       [ 1.        ,  0.28546328,  0.51394074],\n",
       "       [ 1.        ,  0.90156809,  0.38336552],\n",
       "       [ 1.        ,  0.41589434,  0.15066966],\n",
       "       [ 1.        ,  0.35875943,  0.05137558]])"
      ]
     },
     "execution_count": 36,
     "metadata": {},
     "output_type": "execute_result"
    }
   ],
   "source": [
    "x=np.c_[np.ones(10),x]\n",
    "x"
   ]
  },
  {
   "cell_type": "code",
   "execution_count": 37,
   "metadata": {},
   "outputs": [
    {
     "data": {
      "text/plain": [
       "array([ 0.31248853,  0.7420495 ,  0.08220866])"
      ]
     },
     "execution_count": 37,
     "metadata": {},
     "output_type": "execute_result"
    }
   ],
   "source": [
    "theta=np.random.rand(3)\n",
    "theta"
   ]
  },
  {
   "cell_type": "code",
   "execution_count": 38,
   "metadata": {},
   "outputs": [
    {
     "data": {
      "text/plain": [
       "array([1, 1, 1, 1, 1, 1, 1, 1, 1, 1])"
      ]
     },
     "execution_count": 38,
     "metadata": {},
     "output_type": "execute_result"
    }
   ],
   "source": [
    "z=np.dot(x,theta.T)\n",
    "hypo=1/(1+np.exp(-z))\n",
    "y=(hypo>0.5).astype(int)\n",
    "y"
   ]
  }
 ],
 "metadata": {
  "kernelspec": {
   "display_name": "Python 3",
   "language": "python",
   "name": "python3"
  },
  "language_info": {
   "codemirror_mode": {
    "name": "ipython",
    "version": 3
   },
   "file_extension": ".py",
   "mimetype": "text/x-python",
   "name": "python",
   "nbconvert_exporter": "python",
   "pygments_lexer": "ipython3",
   "version": "3.6.3"
  }
 },
 "nbformat": 4,
 "nbformat_minor": 2
}
