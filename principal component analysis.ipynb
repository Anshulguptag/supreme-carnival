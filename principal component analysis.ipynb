{
 "cells": [
  {
   "cell_type": "code",
   "execution_count": 2,
   "metadata": {
    "collapsed": true
   },
   "outputs": [],
   "source": [
    "import numpy as np\n",
    "from numpy import linalg as LA\n",
    "import matplotlib.pyplot as plt"
   ]
  },
  {
   "cell_type": "code",
   "execution_count": 3,
   "metadata": {},
   "outputs": [
    {
     "data": {
      "text/plain": [
       "array([[5, 8, 4, 0, 5, 0, 5, 2, 9, 7, 2, 1, 8, 8, 3],\n",
       "       [5, 7, 4, 1, 0, 8, 2, 3, 0, 6, 4, 0, 9, 3, 5],\n",
       "       [1, 8, 7, 7, 8, 9, 0, 6, 0, 2, 3, 6, 1, 6, 8],\n",
       "       [3, 6, 1, 2, 1, 2, 6, 2, 3, 1, 1, 0, 0, 1, 5],\n",
       "       [5, 6, 7, 0, 1, 9, 0, 0, 1, 8, 0, 0, 9, 6, 5],\n",
       "       [5, 8, 5, 3, 0, 9, 6, 5, 8, 0, 3, 7, 0, 6, 6],\n",
       "       [8, 6, 1, 7, 3, 0, 0, 5, 3, 4, 6, 1, 1, 3, 2],\n",
       "       [3, 9, 9, 9, 7, 4, 1, 8, 5, 2, 8, 0, 8, 7, 4],\n",
       "       [7, 5, 3, 3, 3, 7, 6, 4, 7, 7, 9, 2, 1, 5, 8],\n",
       "       [7, 8, 4, 5, 6, 5, 7, 8, 2, 5, 4, 5, 0, 0, 4]])"
      ]
     },
     "execution_count": 3,
     "metadata": {},
     "output_type": "execute_result"
    }
   ],
   "source": [
    "x=np.random.randint(0,10,150).reshape(10,15)\n",
    "x"
   ]
  },
  {
   "cell_type": "code",
   "execution_count": 4,
   "metadata": {},
   "outputs": [
    {
     "data": {
      "image/png": "[encoded data removed]",
      "text/plain": [
       "<matplotlib.figure.Figure at 0x1c08cf879b0>"
      ]
     },
     "metadata": {},
     "output_type": "display_data"
    }
   ],
   "source": [
    "plt.scatter(x[:,0],x[:,1],c='r')\n",
    "plt.show()"
   ]
  },
  {
   "cell_type": "code",
   "execution_count": 5,
   "metadata": {},
   "outputs": [
    {
     "data": {
      "text/plain": [
       "array([[ 0.1,  0.9, -0.5, -3.7,  1.6, -5.3,  1.7, -2.3,  5.2,  2.8, -2. ,\n",
       "        -1.2,  4.3,  3.5, -2. ],\n",
       "       [ 0.1, -0.1, -0.5, -2.7, -3.4,  2.7, -1.3, -1.3, -3.8,  1.8,  0. ,\n",
       "        -2.2,  5.3, -1.5,  0. ],\n",
       "       [-3.9,  0.9,  2.5,  3.3,  4.6,  3.7, -3.3,  1.7, -3.8, -2.2, -1. ,\n",
       "         3.8, -2.7,  1.5,  3. ],\n",
       "       [-1.9, -1.1, -3.5, -1.7, -2.4, -3.3,  2.7, -2.3, -0.8, -3.2, -3. ,\n",
       "        -2.2, -3.7, -3.5,  0. ],\n",
       "       [ 0.1, -1.1,  2.5, -3.7, -2.4,  3.7, -3.3, -4.3, -2.8,  3.8, -4. ,\n",
       "        -2.2,  5.3,  1.5,  0. ],\n",
       "       [ 0.1,  0.9,  0.5, -0.7, -3.4,  3.7,  2.7,  0.7,  4.2, -4.2, -1. ,\n",
       "         4.8, -3.7,  1.5,  1. ],\n",
       "       [ 3.1, -1.1, -3.5,  3.3, -0.4, -5.3, -3.3,  0.7, -0.8, -0.2,  2. ,\n",
       "        -1.2, -2.7, -1.5, -3. ],\n",
       "       [-1.9,  1.9,  4.5,  5.3,  3.6, -1.3, -2.3,  3.7,  1.2, -2.2,  4. ,\n",
       "        -2.2,  4.3,  2.5, -1. ],\n",
       "       [ 2.1, -2.1, -1.5, -0.7, -0.4,  1.7,  2.7, -0.3,  3.2,  2.8,  5. ,\n",
       "        -0.2, -2.7,  0.5,  3. ],\n",
       "       [ 2.1,  0.9, -0.5,  1.3,  2.6, -0.3,  3.7,  3.7, -1.8,  0.8,  0. ,\n",
       "         2.8, -3.7, -4.5, -1. ]])"
      ]
     },
     "execution_count": 5,
     "metadata": {},
     "output_type": "execute_result"
    }
   ],
   "source": [
    "mean=np.mean(x,axis=0)\n",
    "x_new=x-mean\n",
    "x_new"
   ]
  },
  {
   "cell_type": "code",
   "execution_count": 6,
   "metadata": {},
   "outputs": [
    {
     "data": {
      "text/plain": [
       "array([[  4.09000000e+00,  -1.09000000e+00,  -2.65000000e+00,\n",
       "         -9.30000000e-01,  -1.76000000e+00,  -1.87000000e+00,\n",
       "          1.53000000e+00,  -7.00000000e-02,   1.48000000e+00,\n",
       "          2.62000000e+00,   1.80000000e+00,  -4.80000000e-01,\n",
       "         -1.13000000e+00,  -1.65000000e+00,  -1.50000000e+00],\n",
       "       [ -1.09000000e+00,   1.49000000e+00,   1.85000000e+00,\n",
       "          1.43000000e+00,   1.86000000e+00,   7.00000000e-02,\n",
       "         -1.30000000e-01,   1.77000000e+00,   4.20000000e-01,\n",
       "         -1.32000000e+00,  -1.00000000e-01,   1.18000000e+00,\n",
       "          9.30000000e-01,   9.50000000e-01,  -4.00000000e-01],\n",
       "       [ -2.65000000e+00,   1.85000000e+00,   6.05000000e+00,\n",
       "          2.05000000e+00,   3.00000000e+00,   4.35000000e+00,\n",
       "         -2.95000000e+00,   1.65000000e+00,  -8.00000000e-01,\n",
       "         -3.00000000e-01,   2.00000000e-01,   9.00000000e-01,\n",
       "          4.75000000e+00,   3.75000000e+00,   1.10000000e+00],\n",
       "       [ -9.30000000e-01,   1.43000000e+00,   2.05000000e+00,\n",
       "          9.01000000e+00,   5.52000000e+00,  -1.21000000e+00,\n",
       "         -2.81000000e+00,   6.39000000e+00,  -1.36000000e+00,\n",
       "         -4.14000000e+00,   4.90000000e+00,   1.96000000e+00,\n",
       "         -3.89000000e+00,  -2.50000000e-01,  -2.00000000e-01],\n",
       "       [ -1.76000000e+00,   1.86000000e+00,   3.00000000e+00,\n",
       "          5.52000000e+00,   7.84000000e+00,  -1.82000000e+00,\n",
       "         -1.42000000e+00,   4.48000000e+00,  -3.20000000e-01,\n",
       "         -5.80000000e-01,   2.40000000e+00,   1.72000000e+00,\n",
       "         -6.80000000e-01,   1.50000000e+00,   1.00000000e-01],\n",
       "       [ -1.87000000e+00,   7.00000000e-02,   4.35000000e+00,\n",
       "         -1.21000000e+00,  -1.82000000e+00,   1.20100000e+01,\n",
       "         -1.19000000e+00,  -9.00000000e-02,  -3.54000000e+00,\n",
       "         -6.00000000e-02,  -9.00000000e-01,   3.94000000e+00,\n",
       "          4.90000000e-01,   1.25000000e+00,   4.80000000e+00],\n",
       "       [  1.53000000e+00,  -1.30000000e-01,  -2.95000000e+00,\n",
       "         -2.81000000e+00,  -1.42000000e+00,  -1.19000000e+00,\n",
       "          7.81000000e+00,   4.10000000e-01,   4.66000000e+00,\n",
       "         -6.60000000e-01,   8.88178420e-17,   2.14000000e+00,\n",
       "         -5.01000000e+00,  -2.35000000e+00,   6.00000000e-01],\n",
       "       [ -7.00000000e-02,   1.77000000e+00,   1.65000000e+00,\n",
       "          6.39000000e+00,   4.48000000e+00,  -9.00000000e-02,\n",
       "          4.10000000e-01,   6.21000000e+00,  -4.00000000e-02,\n",
       "         -3.06000000e+00,   4.10000000e+00,   3.14000000e+00,\n",
       "         -3.71000000e+00,  -9.50000000e-01,  -8.88178420e-17],\n",
       "       [  1.48000000e+00,   4.20000000e-01,  -8.00000000e-01,\n",
       "         -1.36000000e+00,  -3.20000000e-01,  -3.54000000e+00,\n",
       "          4.66000000e+00,  -4.00000000e-02,   9.76000000e+00,\n",
       "         -4.60000000e-01,   2.20000000e+00,   8.40000000e-01,\n",
       "         -9.60000000e-01,   3.70000000e+00,  -5.00000000e-01],\n",
       "       [  2.62000000e+00,  -1.32000000e+00,  -3.00000000e-01,\n",
       "         -4.14000000e+00,  -5.80000000e-01,  -6.00000000e-02,\n",
       "         -6.60000000e-01,  -3.06000000e+00,  -4.60000000e-01,\n",
       "          7.16000000e+00,  -8.88178420e-17,  -3.04000000e+00,\n",
       "          5.56000000e+00,   7.00000000e-01,  -6.00000000e-01],\n",
       "       [  1.80000000e+00,  -1.00000000e-01,   2.00000000e-01,\n",
       "          4.90000000e+00,   2.40000000e+00,  -9.00000000e-01,\n",
       "          8.88178420e-17,   4.10000000e+00,   2.20000000e+00,\n",
       "         -8.88178420e-17,   7.60000000e+00,  -3.00000000e-01,\n",
       "         -1.40000000e+00,   4.00000000e-01,   5.00000000e-01],\n",
       "       [ -4.80000000e-01,   1.18000000e+00,   9.00000000e-01,\n",
       "          1.96000000e+00,   1.72000000e+00,   3.94000000e+00,\n",
       "          2.14000000e+00,   3.14000000e+00,   8.40000000e-01,\n",
       "         -3.04000000e+00,  -3.00000000e-01,   6.76000000e+00,\n",
       "         -6.44000000e+00,   4.44089210e-17,   2.10000000e+00],\n",
       "       [ -1.13000000e+00,   9.30000000e-01,   4.75000000e+00,\n",
       "         -3.89000000e+00,  -6.80000000e-01,   4.90000000e-01,\n",
       "         -5.01000000e+00,  -3.71000000e+00,  -9.60000000e-01,\n",
       "          5.56000000e+00,  -1.40000000e+00,  -6.44000000e+00,\n",
       "          1.56100000e+01,   4.85000000e+00,  -2.10000000e+00],\n",
       "       [ -1.65000000e+00,   9.50000000e-01,   3.75000000e+00,\n",
       "         -2.50000000e-01,   1.50000000e+00,   1.25000000e+00,\n",
       "         -2.35000000e+00,  -9.50000000e-01,   3.70000000e+00,\n",
       "          7.00000000e-01,   4.00000000e-01,   4.44089210e-17,\n",
       "          4.85000000e+00,   6.25000000e+00,   7.00000000e-01],\n",
       "       [ -1.50000000e+00,  -4.00000000e-01,   1.10000000e+00,\n",
       "         -2.00000000e-01,   1.00000000e-01,   4.80000000e+00,\n",
       "          6.00000000e-01,  -8.88178420e-17,  -5.00000000e-01,\n",
       "         -6.00000000e-01,   5.00000000e-01,   2.10000000e+00,\n",
       "         -2.10000000e+00,   7.00000000e-01,   3.40000000e+00]])"
      ]
     },
     "execution_count": 6,
     "metadata": {},
     "output_type": "execute_result"
    }
   ],
   "source": [
    "covar=np.dot(x_new.T,x_new)/(len(x_new))\n",
    "covar"
   ]
  },
  {
   "cell_type": "code",
   "execution_count": 7,
   "metadata": {},
   "outputs": [
    {
     "data": {
      "image/png": "[encoded data removed]",
      "text/plain": [
       "<matplotlib.figure.Figure at 0x1c08d444438>"
      ]
     },
     "metadata": {},
     "output_type": "display_data"
    }
   ],
   "source": [
    "u,s,v=LA.svd(covar)\n",
    "k=np.arange(len(x[0]))\n",
    "k\n",
    "plt.scatter(k,s,c='r')\n",
    "plt.show()"
   ]
  },
  {
   "cell_type": "code",
   "execution_count": 8,
   "metadata": {},
   "outputs": [
    {
     "data": {
      "text/plain": [
       "array([[  4.62447219,   6.89900009, -14.60764278,   4.2774908 ,\n",
       "         -7.11917385,   1.43959506,   1.56691586,   0.96487863],\n",
       "       [  8.30740867,  -1.56073318,  -6.17757712,   9.87237243,\n",
       "         -3.48267418,   5.33698041,   1.00204155,   1.90384946],\n",
       "       [ 15.72346362,  -3.6243796 ,  -8.01267192,   5.19268569,\n",
       "         -5.42164447,  -0.5330479 ,   0.58331449,   0.99690588],\n",
       "       [  0.28744791,  -0.32096899,  -5.94023523,   2.91830251,\n",
       "         -2.76669413,   3.13382108,  -1.73787198,  -0.26586873],\n",
       "       [  9.94496188,  -3.16943264,  -8.07489854,   7.74765672,\n",
       "         -4.65049046,   1.47924024,   2.57167149,  -1.33248725],\n",
       "       [  5.40252288,  -4.54595085, -15.44191706,   5.86297554,\n",
       "         -1.68928172,   4.17524431,   3.8684049 ,   0.27034904],\n",
       "       [  4.816906  ,   6.87256209,  -4.01956515,   8.31575237,\n",
       "         -1.86631927,   0.57066337,   4.23305082,   0.39424045],\n",
       "       [ 16.56712529,   7.65363941, -10.80353518,   7.13082875,\n",
       "         -2.49017073,   5.10693254,   0.18827375,  -0.47215798],\n",
       "       [  4.32238347,   0.80292255, -13.12853841,  14.01307834,\n",
       "         -3.54825038,   0.55997834,  -0.91075845,   0.03938357],\n",
       "       [  5.55234982,   0.55350099,  -7.04406941,   9.08776698,\n",
       "         -9.62761868,   4.92833837,   2.2111429 ,  -0.27361416]])"
      ]
     },
     "execution_count": 8,
     "metadata": {},
     "output_type": "execute_result"
    }
   ],
   "source": [
    "ureduce=u[:,1:9]\n",
    "z=np.dot(x,ureduce)\n",
    "z"
   ]
  }
 ],
 "metadata": {
  "kernelspec": {
   "display_name": "Python 3",
   "language": "python",
   "name": "python3"
  },
  "language_info": {
   "codemirror_mode": {
    "name": "ipython",
    "version": 3
   },
   "file_extension": ".py",
   "mimetype": "text/x-python",
   "name": "python",
   "nbconvert_exporter": "python",
   "pygments_lexer": "ipython3",
   "version": "3.6.3"
  }
 },
 "nbformat": 4,
 "nbformat_minor": 2
}
